{
 "cells": [
  {
   "cell_type": "markdown",
   "metadata": {},
   "source": [
    "#### Nama : Niken Maharani Permata\n",
    "#### NIM : 2131710006\n",
    "#### Kelas / No abs : MI1F / 19"
   ]
  },
  {
   "cell_type": "markdown",
   "metadata": {},
   "source": [
    "# JOBSHEET 13. Fungsi 1"
   ]
  },
  {
   "cell_type": "markdown",
   "metadata": {},
   "source": [
    "## Tujuan\n",
    "* Mahasiswa mampu memahami penggunaan fungsi static pada Java dengan parameter dan mengembalikan nilai.\n",
    "* Mahasiswa mampu membuat program menggunakan fungsi static dan mengeksekusi fungsi tersebut.\n"
   ]
  },
  {
   "cell_type": "markdown",
   "metadata": {},
   "source": [
    "## Alat dan Bahan\n",
    "* PC/Laptop\n",
    "* Browser\n",
    "* Koneksi internet\n",
    "* Anaconda3 + Java kernel (opsional)"
   ]
  },
  {
   "cell_type": "markdown",
   "metadata": {},
   "source": [
    "## Praktikum"
   ]
  },
  {
   "cell_type": "markdown",
   "metadata": {},
   "source": [
    "### Percobaan 1: Fungsi Void (tidak menggunakan return value)\n",
    "\n",
    "1.\tBuat fungsi **beriSalam** bertipe void yang digunakan untuk mencetak **“Halo! Selamat Pagi”**.\n",
    "![Gambar 1](images/1.1.png)"
   ]
  },
  {
   "cell_type": "markdown",
   "metadata": {},
   "source": [
    "2. Eksekusi atau panggil fungsi **beriSalam**.\n",
    "![Gambar 2](images/1.2.png)"
   ]
  },
  {
   "cell_type": "code",
   "execution_count": 1,
   "metadata": {},
   "outputs": [
    {
     "name": "stdout",
     "output_type": "stream",
     "text": [
      "Halo! Selamat Pagi\n"
     ]
    }
   ],
   "source": [
    "// Tuliskan kode program Percobaan 1 Langkah 1 & 2\n",
    "static void beriSalam(){\n",
    "    System.out.println(\"Halo! Selamat Pagi\");\n",
    "}\n",
    "beriSalam();"
   ]
  },
  {
   "cell_type": "markdown",
   "metadata": {},
   "source": [
    "3. Buat fungsi **beriUcapan** dengan sebuah parameter bertipe String.\n",
    "![Gambar 3](images/1.3.png)"
   ]
  },
  {
   "cell_type": "markdown",
   "metadata": {},
   "source": [
    "4. Buatlah variabel **salam** bertipe String kemudian eksekusi atau panggil fungsi **beriUcapan** dengan mengisi parameternya dengan variable **salam** yang sudah dibuat.\n",
    "![Gambar 3](images/1.4.png)"
   ]
  },
  {
   "cell_type": "code",
   "execution_count": 4,
   "metadata": {},
   "outputs": [
    {
     "name": "stdout",
     "output_type": "stream",
     "text": [
      "Halo! Selamat Pagi\n",
      "Selamat datang di pemrogaman Java\n"
     ]
    }
   ],
   "source": [
    "// Tuliskan kode program Percobaan 1 Langkah 1, 2, 3 & 4\n",
    "static void beriSalam(){\n",
    "    System.out.println(\"Halo! Selamat Pagi\");\n",
    "}\n",
    "static void beriUcapan(String ucapan){\n",
    "    System.out.println(ucapan);\n",
    "}\n",
    "beriSalam();\n",
    "String salam = \"Selamat datang di pemrogaman Java\";\n",
    "beriUcapan(salam);"
   ]
  },
  {
   "cell_type": "markdown",
   "metadata": {},
   "source": [
    "#### Pertanyaan\n",
    "1. Jelaskan perbedaan fungsi **beriSalam** dan **beriUcapan** pada praktikum 1!"
   ]
  },
  {
   "cell_type": "markdown",
   "metadata": {},
   "source": [
    "#### Jawaban Pertanyaan No.1\n",
    "Perbedaan fungsi beriSalam ialah pada fungsi tersebut tidak menggunakan parameter, sedangkan pada fungsi beriUcapan menggunakan parameter."
   ]
  },
  {
   "cell_type": "markdown",
   "metadata": {},
   "source": [
    "2. Jelaskan cara pemanggilan sebuah fungsi void yang berparameter dan tanpa parameter!"
   ]
  },
  {
   "cell_type": "markdown",
   "metadata": {},
   "source": [
    "#### Jawaban Pertanyaan No.2\n",
    "Pada pemanggilan sebuah fungsi void yang berparameter, output yang akan dicetak ialah data yang asalnya dari luarfungsi. Sedangkan pada fungsi void tanpa parameter, tidak ada data lain (tambahan) yang harus dieksekusi dalam fungsi, sehingga akan dicetak data yang sudah ada tanpa ada tambahan data. Cara pemanggilan sebuah fungsi void yang berparameter adalah dengan cara mengetik nama fungsinya lalu diberi parenthesis(...). Di dalam parenthesis (...) tersebut diketikkan nama variabel yang telah dideklarasikan. Sedangkan pada pemanggilan sebuah fungsi void tanpa parameter, bisa dengan cara mengetik nama fungsi yang ingin dipanggil diikuti parenthesis (...) saja tanpa ada isinya (variabel di dalam parenthesis)."
   ]
  },
  {
   "cell_type": "markdown",
   "metadata": {},
   "source": [
    "### Percobaan 2: Fungsi dengan return value (Bukan void)\n",
    "Pada Percobaan 2, kode program yang dibuat digunakan untuk menghitung luas persegi dengan membuat fungsi **luasPersegi** yang menggunakan parameter.\n",
    "1. Buat fungsi **luasPersegi**  untuk menghitung luas persegi yang mengembalikan nilai luas (int) dan parameter masukan sisi (int).\n",
    "![Gambar 4](images/2.1.png)"
   ]
  },
  {
   "cell_type": "markdown",
   "metadata": {},
   "source": [
    "2.\tEksekusi atau panggil fungsi luasPersegi dengan cara membuat variabel baru yaitu **luasan**, kemudian isi variabel tersebut dengan memanggil fungsi luasPersegi dan mengisi parameter sisi. Selanjutnya cetak variabel luasan untuk menampilkan luas persegi panjang\n",
    "![Gambar 5](images/2.2.png)"
   ]
  },
  {
   "cell_type": "code",
   "execution_count": 5,
   "metadata": {},
   "outputs": [
    {
     "name": "stdout",
     "output_type": "stream",
     "text": [
      "Luas Persegi dengan sisi 5 = 25\n"
     ]
    }
   ],
   "source": [
    "// Tuliskan kode program Percobaan 2 Langkah 1 & 2\n",
    "static int luasPersegi(int sisi){\n",
    "    int luas = sisi * sisi;\n",
    "    return luas;\n",
    "}\n",
    "int luasan = luasPersegi(5);\n",
    "System.out.println(\"Luas Persegi dengan sisi 5 = \" +luasan);"
   ]
  },
  {
   "cell_type": "markdown",
   "metadata": {},
   "source": [
    "#### Pertanyaan\n",
    "1. jelaskan mengapa ketika memanggil fungsi **luasPersegi** harus membuat variabel baru yaitu luasan?"
   ]
  },
  {
   "cell_type": "markdown",
   "metadata": {},
   "source": [
    "#### Jawaban Pertanyaan No.1\n",
    "variabel luasan diperlukan untuk menyimpan hasil luasPersegi sehingga program dapat memanggil hasil dari fungsi tersebut untuk dapat dipanggil lagi dalam inputan yang berbeda"
   ]
  },
  {
   "cell_type": "markdown",
   "metadata": {},
   "source": [
    "2. Jelaskan kegunaan **return luas** pada percobaan 2 diatas!"
   ]
  },
  {
   "cell_type": "markdown",
   "metadata": {},
   "source": [
    "#### Jawaban Pertanyaan No.1\n",
    "kegunaan return luas ialah agar fungsi luasPersegi dapat mengembalikan nilai. Dimana setelah dilakukan perhitungan, fungsi return akan mengembalikan nilai ke kode utama program dimana hasil akan disimpan sebelum dipanggil oleh fungsi itu sendiri maupun fungsi lain. Dengan kata lain, nilai dari variabel luas akan menjadi nilai dari fungsi luasPersegi."
   ]
  },
  {
   "cell_type": "markdown",
   "metadata": {},
   "source": [
    "3. Modifikasilah program di percobaan 2, dengan membuat panjang **sisi** sebagai inputan!"
   ]
  },
  {
   "cell_type": "code",
   "execution_count": 5,
   "metadata": {},
   "outputs": [
    {
     "name": "stdout",
     "output_type": "stream",
     "text": [
      "Masukkan nilai sisi: 6\n",
      "Luas Persegi dengan sisi 6 = 36\n"
     ]
    }
   ],
   "source": [
    "// Tuliskan jawaban nomor 3\n",
    "import java.util.Scanner;\n",
    "Scanner input = new Scanner (System.in);\n",
    "int sisi;\n",
    "System.out.print(\"Masukkan nilai sisi: \");\n",
    "sisi = input.nextInt();\n",
    "\n",
    "static int luasPersegi(int sisi){\n",
    "    int luas = sisi * sisi;\n",
    "    return luas;\n",
    "}\n",
    "int luasan = luasPersegi(sisi);\n",
    "System.out.println(\"Luas Persegi dengan sisi \" +sisi+ \" = \" +luasan);"
   ]
  },
  {
   "cell_type": "markdown",
   "metadata": {},
   "source": [
    "### Percobaan 3: Fungsi dapat meng-CALL Fungsi Lain\n",
    "Pada Percobaan 3, kode program yang dibuat digunakan untuk mengimplementasikan bahwa fungsi dapat meng-CALL fungsi yang lain. Dimana dalam percobaan ini terdapat fungsi **Kali dan Kurang**. \n",
    "1. Buatlah fungsi **Kali** yang mengembalikan nilai H (int) dan parameter masukan C dan D (int).\n",
    "![Gambar 9](images/3.1.png)"
   ]
  },
  {
   "cell_type": "markdown",
   "metadata": {},
   "source": [
    "2.\tBuatlah fungsi **Kurang** yang mengembalikan nilai X (int) dan parameter masukan A dan B (int) dan memanggil fungsi Kali.\n",
    "![Gambar 10](images/3.2.png)"
   ]
  },
  {
   "cell_type": "markdown",
   "metadata": {},
   "source": [
    "3. Lakukan import class Scanner sebagai inputan di langkah selajutnya."
   ]
  },
  {
   "cell_type": "markdown",
   "metadata": {},
   "source": [
    "4. Eksekusi atau panggil fungsi **Kurang** .\n",
    "![Gambar 11](images/3.4.png)"
   ]
  },
  {
   "cell_type": "code",
   "execution_count": 2,
   "metadata": {},
   "outputs": [
    {
     "name": "stdout",
     "output_type": "stream",
     "text": [
      "Masukkan Nilai 1: \n",
      "12\n",
      "Masukkan Nilai 2: \n",
      "24\n",
      "Hasil akhir adalah 29\n"
     ]
    }
   ],
   "source": [
    "// Tuliskan kode program Percobaan 3 Langkah 1, 2, 3 & 4\n",
    "static int Kali(int C, int D){\n",
    "    int H;\n",
    "    H = (C+10) % (D+19);\n",
    "    return H;\n",
    "}\n",
    "\n",
    "static int Kurang(int A, int B){\n",
    "    int X;\n",
    "    A = A + 7;\n",
    "    B = B + 4;\n",
    "    X = Kali(A, B);\n",
    "    return X;\n",
    "}\n",
    "\n",
    "import java.util.Scanner;\n",
    "int nilai1, nilai2;\n",
    "Scanner input = new Scanner(System.in);\n",
    "System.out.println(\"Masukkan Nilai 1: \");\n",
    "nilai1=input.nextInt();\n",
    "System.out.println(\"Masukkan Nilai 2: \");\n",
    "nilai2=input.nextInt();\n",
    "int hasil = Kurang(nilai1, nilai2);\n",
    "System.out.println(\"Hasil akhir adalah \"+hasil);"
   ]
  },
  {
   "cell_type": "markdown",
   "metadata": {},
   "source": [
    "#### Pertanyaan\n",
    "1. Modifikasilah percobaan diatas dimana di fungsi **Kali** dapat memanggil fungsi **Kurang** kemudian eksekusi atau panggil fungsi Kali"
   ]
  },
  {
   "cell_type": "code",
   "execution_count": 14,
   "metadata": {},
   "outputs": [
    {
     "name": "stdout",
     "output_type": "stream",
     "text": [
      "Masukkan Nilai 1: \n",
      "2\n",
      "Masukkan Nilai 2: \n",
      "3\n",
      "Hasil akhir adalah 2\n"
     ]
    }
   ],
   "source": [
    "// Tuliskan jawaban nomor 1\n",
    "static int Kali(int C, int D){\n",
    "    int Y, H;\n",
    "    H = (C+10) % (D+19);\n",
    "    Y = Kurang(C, D);\n",
    "    return Y;\n",
    "}\n",
    "\n",
    "static int Kurang(int A, int B){\n",
    "    int X;\n",
    "    A = A + 7;\n",
    "    B = B + 4;\n",
    "    X = A-B;\n",
    "    return X;\n",
    "}\n",
    "\n",
    "import java.util.Scanner;\n",
    "int nilai1, nilai2;\n",
    "Scanner input = new Scanner(System.in);\n",
    "System.out.println(\"Masukkan Nilai 1: \");\n",
    "nilai1=input.nextInt();\n",
    "System.out.println(\"Masukkan Nilai 2: \");\n",
    "nilai2=input.nextInt();\n",
    "int hasil = Kali(nilai1, nilai2);\n",
    "System.out.println(\"Hasil akhir adalah \"+hasil);"
   ]
  },
  {
   "cell_type": "markdown",
   "metadata": {},
   "source": [
    "2. Jelaskan alur jalannya program di percobaan 3 mulai dari input sampai keluar output!"
   ]
  },
  {
   "cell_type": "markdown",
   "metadata": {},
   "source": [
    "#### Jawaban No.2\n",
    "Pada program pada percobaan 3, user diminta untuk menginputkan nilai 1 dan nilai 2 sesuai keinginan. Kemudian program akan memproses hasil dimana hasil didapat dari fungsi Kali yang memanggil fungsi Kurang. Pada awalnya fungsi Kurang akan melakukan perhitungan sesuai dengan program yang telah dituliskan sebelumnya (dimana A = nilai1, B = nilai2). Namun, pada akhir fungsi sebelum return, fungsi Kurang memanggil fungsi Kali. Dimana olahan hasil inputan tersebut akan masuk ke fungsi Kali dan diolah sedemikian rupa (dimana C = A, D = B). Baru dikembalikan terhadap fungsi Kurang. Fungsi kurang akan ditugaskan dalam variabel hasil. Setelah itu, hasil yang telah disimpan dalam variabel hasil akan dicetak."
   ]
  },
  {
   "cell_type": "markdown",
   "metadata": {},
   "source": [
    "### Percobaan 4: Mengubah Program Tidak Menggunakan Fungsi dan Menggunakan Fungsi\n",
    "Pada Percobaan 4, kode program yang dibuat digunakan untuk menghitung luas persegi panjang dan volume balok tanpa menggunakan fungsi dan dengan menggunakan fungsi.\n",
    "1. Import dan deklarasikan Scanner dengan nama **input**\n",
    "![Gambar 9](images/4.1.png)"
   ]
  },
  {
   "cell_type": "markdown",
   "metadata": {},
   "source": [
    "2. Buatlah inputan panjang, lebar, dan tinggi \n",
    "![Gambar 10](images/4.2.png)"
   ]
  },
  {
   "cell_type": "markdown",
   "metadata": {},
   "source": [
    "3. Hitung luas persegi panjang dan volume balok\n",
    "![Gambar 10](images/4.3.png)"
   ]
  },
  {
   "cell_type": "code",
   "execution_count": 2,
   "metadata": {},
   "outputs": [
    {
     "name": "stdout",
     "output_type": "stream",
     "text": [
      "Masukkan panjang\n",
      "7\n",
      "Masukkan lebar\n",
      "9\n",
      "Masukkan tinggi\n",
      "13\n",
      "Luas Persegi panjang adalah 63\n",
      "Volume balok adalah 819\n"
     ]
    }
   ],
   "source": [
    "// Tuliskan kode program Percobaan 4 Langkah 1, 2, & 3\n",
    "import java.util.Scanner;\n",
    "Scanner input = new Scanner (System.in);\n",
    "\n",
    "int p,l,t,L,vol;\n",
    "System.out.println(\"Masukkan panjang\");\n",
    "p = input.nextInt();\n",
    "System.out.println(\"Masukkan lebar\");\n",
    "l = input.nextInt();\n",
    "System.out.println(\"Masukkan tinggi\");\n",
    "t = input.nextInt();\n",
    "\n",
    "L = p*l;\n",
    "System.out.println(\"Luas Persegi panjang adalah \" +L);\n",
    "\n",
    "vol = p*l*t;\n",
    "System.out.println(\"Volume balok adalah \"+vol);"
   ]
  },
  {
   "cell_type": "markdown",
   "metadata": {},
   "source": [
    "4. Program menghitung luas persegi dan volume balok diatas jika dibuatkan fungsi maka terdapat 3 fungsi yaitu hitungLuas, hitungVolume dan fungsi main, seperti dibawah ini:\n",
    "\n",
    "Fungsi hitungLuas\n",
    "\n",
    "![Gambar 10](images/4.4Luas.png)\n",
    "\n",
    "Fungsi hitungVolume\n",
    "![Gambar 10](images/4.4Volume.png)\n",
    "\n"
   ]
  },
  {
   "cell_type": "markdown",
   "metadata": {},
   "source": [
    "5. Eksekusi/panggil fungsi **hitungLuas** dan **hitungVolume**\n",
    "\n",
    "![Gambar 10](images/4.5.png)"
   ]
  },
  {
   "cell_type": "code",
   "execution_count": 3,
   "metadata": {},
   "outputs": [
    {
     "name": "stdout",
     "output_type": "stream",
     "text": [
      "Masukkan panjang\n",
      "7\n",
      "Masukkan lebar\n",
      "9\n",
      "Masukkan tinggi\n",
      "13\n",
      "Luas Persegi panjang adalah 63\n",
      "Volume balok adalah 819\n"
     ]
    }
   ],
   "source": [
    "// Tuliskan kode program Percobaan 4 Langkah 1, 2, & 3\n",
    "static int hitungLuas (int pjg, int lb){\n",
    "    int Luas = pjg*lb;\n",
    "    return Luas;\n",
    "}\n",
    "\n",
    "static int hitungVolume (int tinggi, int a, int b){\n",
    "    int volume = hitungLuas(a,b)*tinggi;\n",
    "    return volume;\n",
    "}\n",
    "\n",
    "Scanner input = new Scanner (System.in);\n",
    "\n",
    "int p,l,t,L,vol;\n",
    "System.out.println(\"Masukkan panjang\");\n",
    "p = input.nextInt();\n",
    "System.out.println(\"Masukkan lebar\");\n",
    "l = input.nextInt();\n",
    "System.out.println(\"Masukkan tinggi\");\n",
    "t = input.nextInt();\n",
    "\n",
    "L = hitungLuas(p,l);\n",
    "System.out.println(\"Luas Persegi panjang adalah \" +L);\n",
    "\n",
    "vol = hitungVolume(t,p,l);\n",
    "System.out.println(\"Volume balok adalah \"+vol);"
   ]
  },
  {
   "cell_type": "markdown",
   "metadata": {},
   "source": [
    "#### Pertanyaan\n",
    "1. Jelaskan kegunaan parameter yang terdapat didalam fungsi hitungLuas dan hitungVolume!"
   ]
  },
  {
   "cell_type": "markdown",
   "metadata": {},
   "source": [
    "#### Jawaban No.1\n",
    "Kegunakan parameter yang terdapat dalam fungsi hitungLuas dan hitungVolume ialah untuk menampung nilai yang akan diproses di dalam fungsi."
   ]
  },
  {
   "cell_type": "markdown",
   "metadata": {},
   "source": [
    "2. Setelah melakukan percobaan 4, menurut anda manakah program yg lebih efisien apakah menggunakan fungsi atau tanpa fungsi? Jelaskan!"
   ]
  },
  {
   "cell_type": "markdown",
   "metadata": {},
   "source": [
    "#### Jawaban No.2\n",
    "Menurut saya, jika dilihat dari program pada percobaan 4, maka akan tampak bahwa lebih efisien program yang tidak menggunakan fungsi. Sebab program lebih sederhana dan kode program lebih ringkas, daripada hasil yang didapat dengan program menggunakan fungsi. Namun, jika program yang kita buat lebih kompleks dan lebih banyak output yang ingin didapat, maka program yang lebih efisien ialah program yang menggunakan fungsi. Karena dengan adanya fungsi, hasil yang telah diperoleh sebelumnya dapat dipanggil kembali tanpa harus mengolah kembali inputan yang ada."
   ]
  },
  {
   "cell_type": "markdown",
   "metadata": {},
   "source": [
    "### Percobaan 5: Fungsi Menggunakan Array dan Variabel Global\n",
    "Pada Percobaan 5, kode program yang dibuat digunakan untuk menghitung total nilai yang ada didalam array dengan membuat 3 fungsi yaitu isiarray, hitTol, dan tampilArray.\n",
    "1. Buatlah **variable global total dan i** bertipe int\n",
    "![Gambar 9](images/5.1pertama.png)"
   ]
  },
  {
   "cell_type": "markdown",
   "metadata": {},
   "source": [
    "2. Buatlah fungsi **isiarray** bertipe int dengan parameter angka bertipe int \n",
    "\n",
    "![Gambar 10](images/5.1.png)"
   ]
  },
  {
   "cell_type": "markdown",
   "metadata": {},
   "source": [
    "3. Buatlah fungsi **tampilArray** bertipe **void** dengan parameter data array **arr** bertipe int\n",
    "\n",
    "![Gambar 10](images/5.2.png)"
   ]
  },
  {
   "cell_type": "markdown",
   "metadata": {},
   "source": [
    "4. Buatlah fungsi **hitTot** bertipe int dengan parameter data array **arr** bertipe int\n",
    "\n",
    "![Gambar 10](images/5.3.png)"
   ]
  },
  {
   "cell_type": "markdown",
   "metadata": {},
   "source": [
    "5. Import dan deklarasikan Scanner dengan nama **input**\n",
    "\n",
    "![Gambar 10](images/4.1.png)"
   ]
  },
  {
   "cell_type": "markdown",
   "metadata": {},
   "source": [
    "6. Eksekusi atau panggil ketiga fungsi yaitu **isiarray, tampilArray, dan hitTot**, kemudian jalankan program!\n",
    "\n",
    "![Gambar 10](images/5.6.png)"
   ]
  },
  {
   "cell_type": "code",
   "execution_count": 15,
   "metadata": {},
   "outputs": [
    {
     "name": "stdout",
     "output_type": "stream",
     "text": [
      "Masukkan jumlah data yang ingin anda inputkan: \n",
      "5\n",
      "Masukkan data ke-0\n",
      "10\n",
      "Masukkan data ke-1\n",
      "20\n",
      "Masukkan data ke-2\n",
      "30\n",
      "Masukkan data ke-3\n",
      "40\n",
      "Masukkan data ke-4\n",
      "50\n",
      "Nilai yang anda inputkan ke 0\n",
      "10\n",
      "Nilai yang anda inputkan ke 1\n",
      "20\n",
      "Nilai yang anda inputkan ke 2\n",
      "30\n",
      "Nilai yang anda inputkan ke 3\n",
      "40\n",
      "Nilai yang anda inputkan ke 4\n",
      "50\n",
      "Total nilai = 150\n"
     ]
    }
   ],
   "source": [
    "// Tuliskan kode program Percobaan 4 Langkah 1 s/d 6\n",
    "static int total = 0, i;\n",
    "\n",
    "static int [] isiArray(int angka){\n",
    "    Scanner input = new Scanner(System.in);\n",
    "    int array [] = new int[angka];\n",
    "    for (i=0; i<array.length; i++){\n",
    "        System.out.println(\"Masukkan data ke-\"+i);\n",
    "        array[i]=input.nextInt();\n",
    "    }\n",
    "    return array;\n",
    "}\n",
    "\n",
    "static void tampilArray(int [] arr){\n",
    "    for(i=0; i<arr.length; i++){\n",
    "        System.out.println(\"Nilai yang anda inputkan ke \"+i);\n",
    "        System.out.println(arr[i]);\n",
    "    }\n",
    "}\n",
    "\n",
    "static int hitTot(int[] arr){\n",
    "    for(i=0; i<arr.length; i++){\n",
    "        total+=arr[i];\n",
    "    }\n",
    "    return total;\n",
    "}\n",
    "\n",
    "\n",
    "import java.util.Scanner;\n",
    "Scanner input = new Scanner(System.in);\n",
    "\n",
    "System.out.println(\"Masukkan jumlah data yang ingin anda inputkan: \");\n",
    "int jum = input.nextInt();\n",
    "int [] dataArray = isiArray(jum);\n",
    "tampilArray(dataArray);\n",
    "total = hitTot(dataArray);\n",
    "System.out.println(\"Total nilai = \"+total);"
   ]
  },
  {
   "cell_type": "markdown",
   "metadata": {},
   "source": [
    "#### Pertanyaan\n",
    "1. Jelaskan mengapa fungsi tampil array dibuat bertipe void, sedangkan isiarray dan hitTot bertipe int!"
   ]
  },
  {
   "cell_type": "markdown",
   "metadata": {},
   "source": [
    "#### Jawaban No. 1\n",
    "Pada fungsi tampil array dibuat bertipe void sebab pada fungsi tersebut tidak diperlukan penyimpanan pada data, sebab hanya diperlukan untuk menampilkan data tanpa menyimpannya untuk diolah lebih lanjut.Sedangkan pada fungsi isiArray dan hitTot bertipe int sebab pada fungsi tersebut memerlukan penyimpanan pada data yang diolah."
   ]
  },
  {
   "cell_type": "markdown",
   "metadata": {},
   "source": [
    "2. Menurut pendapat anda apakah fugsi isiarray dan hitTot dapat diganti dengan tipe void? Jelaskan dan buktikan dengan program!"
   ]
  },
  {
   "cell_type": "code",
   "execution_count": 1,
   "metadata": {},
   "outputs": [
    {
     "name": "stdout",
     "output_type": "stream",
     "text": [
      "Masukkan jumlah data yang ingin anda inputkan: \n",
      "5\n",
      "Masukkan data ke-0\n",
      "10\n",
      "Masukkan data ke-1\n",
      "20\n",
      "Masukkan data ke-2\n",
      "30\n",
      "Masukkan data ke-3\n",
      "40\n",
      "Masukkan data ke-4\n",
      "50\n",
      "Nilai yang anda inputkan ke 0\n",
      "10\n",
      "Nilai yang anda inputkan ke 1\n",
      "20\n",
      "Nilai yang anda inputkan ke 2\n",
      "30\n",
      "Nilai yang anda inputkan ke 3\n",
      "40\n",
      "Nilai yang anda inputkan ke 4\n",
      "50\n",
      "Total nilai = 150\n"
     ]
    }
   ],
   "source": [
    "// Tuliskan jawaban nomor 2\n",
    "static int total = 0, i;\n",
    "\n",
    "static void isiArray(int[] angka){\n",
    "    Scanner input = new Scanner(System.in);\n",
    "   \n",
    "    for (i=0; i< angka.length; i++){\n",
    "        System.out.println(\"Masukkan data ke-\"+i);\n",
    "        angka[i]=input.nextInt();\n",
    "    }\n",
    "}\n",
    "\n",
    "static void tampilArray(int [] arr){\n",
    "    for(i=0; i<arr.length; i++){\n",
    "        System.out.println(\"Nilai yang anda inputkan ke \"+i);\n",
    "        System.out.println(arr[i]);\n",
    "    }\n",
    "}\n",
    "\n",
    "static void hitTot(int[] arr){\n",
    "    for(i=0; i<arr.length; i++){\n",
    "        total+=arr[i];\n",
    "    }\n",
    "    System.out.println(\"Total nilai = \"+total);\n",
    "}\n",
    "\n",
    "\n",
    "import java.util.Scanner;\n",
    "Scanner input = new Scanner(System.in);\n",
    "\n",
    "System.out.println(\"Masukkan jumlah data yang ingin anda inputkan: \");\n",
    "int jum = input.nextInt();\n",
    "int [] dataArray = new int [jum];\n",
    "isiArray(dataArray);\n",
    "tampilArray(dataArray);\n",
    "hitTot(dataArray);"
   ]
  },
  {
   "cell_type": "markdown",
   "metadata": {},
   "source": [
    "#### Penjelasan No.2\n",
    "Fungsi isiarray dan hitTot dapat diganti dengan tipe void, seperti yang terlihat, pada fungsi isiArray dapat diganti dengan tipe void tanpa adanya fungsi tambahan (dalam hal ini, variabel array) yang menyimpan data sementara untuk fungsi isiArray. Disini, data yang dimasukkan, langsung masuk ke dalam variabel angka yang juga menjadi parameter dari fungsi isiArray. Demikian pula dengan hitTot yang dapat diganti langsung dengan tipe void. Namun, pada perhitungan total, kita memindahkan perintah cetak variabel total ke dalam fungsi hitTot (menjadi variabel lokal, bukan global lagi yang dapat dipanggil dari fungsi mana saja)"
   ]
  },
  {
   "cell_type": "markdown",
   "metadata": {},
   "source": [
    "## Tugas"
   ]
  },
  {
   "cell_type": "markdown",
   "metadata": {},
   "source": [
    "1. Buatlah sebuah static method yang bernama Max3(int bil1, int bil2, int bil3) yang menerima 3 buah parameter bilangan integer dan mengembalikan sebuah bilangan integer yang merupakan nilai maksimum diantara ketiga bilangan tersebut. "
   ]
  },
  {
   "cell_type": "code",
   "execution_count": 1,
   "metadata": {},
   "outputs": [
    {
     "name": "stdout",
     "output_type": "stream",
     "text": [
      "=== MENCARI NILAI MAKSIMUM ===\n",
      "Masukkan Nilai Pertama\t: 29\n",
      "Masukkan Nilai Kedua\t: 37\n",
      "Masukkan Nilai Ketiga\t: 18\n",
      "Nilai maksimum dari ketiga nilai tersebut adalah: 37"
     ]
    }
   ],
   "source": [
    "// Tuliskan jawaban nomor 1\n",
    "static int Max3(int bil1, int bil2, int bil3){\n",
    "    int max[] = {bil1, bil2, bil3};\n",
    "    int maximum = 0;\n",
    "    for(int i = 0; i < max.length; i++){\n",
    "        if(max[i] > maximum){\n",
    "            maximum = max[i];\n",
    "        }\n",
    "    }\n",
    "    return maximum;\n",
    "}\n",
    "System.out.println(\"=== MENCARI NILAI MAKSIMUM ===\");\n",
    "Scanner in = new Scanner(System.in);\n",
    "System.out.print(\"Masukkan Nilai Pertama\\t: \");\n",
    "int nil1 = in.nextInt();\n",
    "System.out.print(\"Masukkan Nilai Kedua\\t: \");\n",
    "int nil2 = in.nextInt();\n",
    "System.out.print(\"Masukkan Nilai Ketiga\\t: \");\n",
    "int nil3 = in.nextInt();\n",
    "System.out.print(\"Nilai maksimum dari ketiga nilai tersebut adalah: \" + Max3(nil1, nil2, nil3));"
   ]
  },
  {
   "cell_type": "markdown",
   "metadata": {},
   "source": [
    "2. Disebuah restoran terdapat 3 menu yang dijual yaitu nasi goreng, soto, dan sate. Harga nasi goreng Rp. 20.000, soto Rp. 15.000, dan sate Rp. 25.000. Restoran tersebut buka dari hari senin sampai jumat. Berikut ini merupakan tabel pejualan perhari untuk masing-masing menu di restoran tersebut dari hari senin sampai jumat\n",
    "![Gambar 13](images/soal3.png)\n",
    "\n",
    "Buatlah Fungsi sebagai berikut:\n",
    " * Fungsi menampilkan menu favorit di hari selasa dan jumat (menu favorit diasumsikan adalah menu yang paling banyak terjual di hari tersebut)\n",
    " * Fungsi untuk menghitung pemasukan restoran tersebut mulai hari senin sampai jumat.\n",
    " * Fungsi untuk menghitung berapa porsi yang terjual untuk masing-masing menu yaitu nasi goreng, soto, dan sate mulai senin sampai jumat."
   ]
  },
  {
   "cell_type": "code",
   "execution_count": 2,
   "metadata": {},
   "outputs": [
    {
     "name": "stdout",
     "output_type": "stream",
     "text": [
      "===== PENJUALAN RESTORAN =====\n",
      "\n",
      "\n",
      "Menu favorit pada hari Selasa adalah Soto\n",
      "Menu favorit pada hari Jumat adalah Nasi Goreng\n",
      "\n",
      "Jumlah pemasukan dari Senin sampai Jumat adalah 8625000\n",
      "\n",
      "Jumlah porsi yang terjual untuk Nasi Goreng adalah 164\n",
      "Jumlah porsi yang terjual untuk Soto adalah 143\n",
      "Jumlah porsi yang terjual untuk Sate adalah 128\n"
     ]
    }
   ],
   "source": [
    "// Tuliskan jawaban nomor 2\n",
    "static int makanan[][] = { \n",
    "    { 20, 15, 35, 24, 70 }, \n",
    "    { 30, 40, 10, 28, 35 }, \n",
    "    { 5, 10, 50, 48, 15 } \n",
    "};\n",
    "\n",
    "System.out.println(\"===== PENJUALAN RESTORAN =====\");\n",
    "System.out.println(\"\\n\");\n",
    "\n",
    "    static void favorit(){\n",
    "        int max = 0, indeksMaks = 0;\n",
    "        for(int i = 0; i < makanan.length; i++){\n",
    "            if(makanan[i][1] > max){\n",
    "                max = makanan[i][1];\n",
    "                indeksMaks = i;\n",
    "            }\n",
    "        }\n",
    "        switch(indeksMaks){\n",
    "        case 0:\n",
    "            System.out.println(\"Menu favorit pada hari Selasa adalah Nasi Goreng\");\n",
    "            break;\n",
    "        case 1:\n",
    "            System.out.println(\"Menu favorit pada hari Selasa adalah Soto\");\n",
    "            break;\n",
    "        case 2:\n",
    "            System.out.println(\"Menu favorit pada hari Selasa adalah Sate\");\n",
    "            break;\n",
    "        default:\n",
    "            break;\n",
    "        }\n",
    "        max = 0;\n",
    "        for(int i = 0; i < makanan.length; i++){\n",
    "            if(makanan[i][4] > max){\n",
    "                max = makanan[i][4];\n",
    "                indeksMaks = i;\n",
    "            }\n",
    "        }\n",
    "        switch (indeksMaks) {\n",
    "        case 0:\n",
    "            System.out.println(\"Menu favorit pada hari Jumat adalah Nasi Goreng\");\n",
    "            break;\n",
    "        case 1:\n",
    "            System.out.println(\"Menu favorit pada hari Jumat adalah Soto\");\n",
    "            break;\n",
    "        case 2:\n",
    "            System.out.println(\"Menu favorit pada hari Jumat adalah Sate\");\n",
    "            break;\n",
    "        default:\n",
    "            break;\n",
    "        }\n",
    "    }\n",
    "    static int danaMasukan(){\n",
    "        int nasigor = 20000, soto = 15000, sate = 25000;\n",
    "        int jumlahNasigor = 0, jumlahSoto = 0, jumlahSate = 0;\n",
    "        for(int i = 0; i < makanan[0].length; i++){\n",
    "            jumlahNasigor += makanan[0][i];\n",
    "            jumlahSoto += makanan[1][i];\n",
    "            jumlahSate += makanan[2][i];\n",
    "        }\n",
    "        jumlahNasigor *= nasigor;\n",
    "        jumlahSate *= sate;\n",
    "        jumlahSoto *= soto;\n",
    "        int jumlah = jumlahNasigor + jumlahSate + jumlahSoto;\n",
    "        return jumlah;\n",
    "    }\n",
    "    static int Nasigor(){\n",
    "        int jumlahNasigor = 0;\n",
    "        for(int i = 0; i < makanan[0].length; i++){\n",
    "            jumlahNasigor += makanan[0][i];\n",
    "        }\n",
    "        return jumlahNasigor;\n",
    "    }\n",
    "    static int Soto(){\n",
    "        int jumlahSoto = 0;\n",
    "        for(int i = 0; i < makanan[0].length; i++){\n",
    "            jumlahSoto += makanan[1][i];\n",
    "        }\n",
    "        return jumlahSoto;\n",
    "    }\n",
    "    static int Sate(){\n",
    "        int jumlahSate = 0;\n",
    "        for(int i = 0; i < makanan[0].length; i++){\n",
    "            jumlahSate += makanan[2][i];\n",
    "        }\n",
    "        return jumlahSate;\n",
    "    }\n",
    "        favorit();\n",
    "        System.out.println();\n",
    "        System.out.println(\"Jumlah pemasukan dari Senin sampai Jumat adalah \" + danaMasukan());\n",
    "        System.out.println();\n",
    "        System.out.println(\"Jumlah porsi yang terjual untuk Nasi Goreng adalah \" + Nasigor());\n",
    "        System.out.println(\"Jumlah porsi yang terjual untuk Soto adalah \" + Soto());\n",
    "        System.out.println(\"Jumlah porsi yang terjual untuk Sate adalah \" + Sate());"
   ]
  }
 ],
 "metadata": {
  "kernelspec": {
   "display_name": "Java",
   "language": "java",
   "name": "java"
  },
  "language_info": {
   "codemirror_mode": "java",
   "file_extension": ".jshell",
   "mimetype": "text/x-java-source",
   "name": "Java",
   "pygments_lexer": "java",
   "version": "18-ea+24-1608"
  }
 },
 "nbformat": 4,
 "nbformat_minor": 4
}
