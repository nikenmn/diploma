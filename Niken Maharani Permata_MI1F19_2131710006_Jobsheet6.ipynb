{
 "cells": [
  {
   "cell_type": "markdown",
   "metadata": {},
   "source": [
    "### Nama : Niken Maharani Permata\n",
    "### Kelas / No absen : MI1F / 19\n",
    "### NIM : 2131710006"
   ]
  },
  {
   "cell_type": "markdown",
   "metadata": {
    "collapsed": true
   },
   "source": [
    "## JOBSHEET 6\n",
    "\n",
    "## PEMILIHAN 2\n",
    "\n",
    "### Tujuan\n",
    "\n",
    "Mahasiswa memahami tentang operator logika; Mahasiswa mampu menyelesaikan permasalahan dengan menggunakan sintaks pemilihan bersarang; Mahasiswa mampu membuat sebuah program Java yang memanfaatkan sintaks pemilihan bersarang\n",
    "\n",
    "\n",
    "### Alat dan Bahan\n",
    "+ PC/laptop\n",
    "+ Browser(chrome, firefox, safari)\n",
    "+ Koneksi internet\n",
    "\n",
    "### Praktikum\n",
    "\n",
    "#### Percobaan 1\n",
    "\n",
    "#### Waktu percobaan : 40 menit\n",
    "\n",
    "1. Tambahkan library Scanner, deklarasi Scanner\n",
    "\n",
    "2. Buatlah variabel nilai yang memiliki tipe data int untuk menampung data yang diinput melalui keyboard\n",
    "\n",
    "    ![](images/03.png)"
   ]
  },
  {
   "cell_type": "code",
   "execution_count": 1,
   "metadata": {},
   "outputs": [
    {
     "name": "stdout",
     "output_type": "stream",
     "text": [
      "Masukkan nilai : 92\n"
     ]
    }
   ],
   "source": [
    "// Ketik kode di sini\n",
    "import java.util.Scanner;\n",
    "Scanner input = new Scanner(System.in);\n",
    "int nilai;\n",
    "System.out.print(\"Masukkan nilai : \");\n",
    "nilai = input.nextInt();"
   ]
  },
  {
   "cell_type": "markdown",
   "metadata": {},
   "source": [
    "3. Buatlah struktur pengecekan kondisi bersarang. Pengecekan pertama digunakan untuk memastikan bahwa nilai yang dimasukkan berada pada rentang 0 – 100. Jika nilai berada pada rentang 0 – 100, maka akan dilakukan pengecekan status kelulusan mahasiswa, yaitu jika nilai di antara 90 – 100 maka nilainya A, jika nilai di antara 80 – 89 maka nilainya B, jika nilai di antara 60 – 79 maka nilainya C, jika nilai di antara 50 – 59 maka nilainya D, dan jika nilai di antara 0 – 49 maka nilainya E. Sedangkan jika nilai berada di luar rentang 0 – 100, maka ditampilkan informasi bahwa nilai yang dimasukkan tidak valid.\n",
    "\n",
    "    ![](images/04.png)"
   ]
  },
  {
   "cell_type": "code",
   "execution_count": 2,
   "metadata": {},
   "outputs": [
    {
     "name": "stdout",
     "output_type": "stream",
     "text": [
      "Nilai A, EXCELLENT!\n"
     ]
    }
   ],
   "source": [
    "// Ketik kode di sini\n",
    "if(nilai >= 0 && nilai <= 100){\n",
    "    if(nilai >= 90 && nilai <= 100){\n",
    "        System.out.println(\"Nilai A, EXCELLENT!\");\n",
    "    } else if (nilai >= 80 && nilai <= 89){\n",
    "        System.out.println(\"Nilai B, Pertahankan prestasi Anda!\");\n",
    "    } else if (nilai >= 60 && nilai <= 79){\n",
    "        System.out.println(\"Nilai C, Pertahankan prestasi Anda!\");\n",
    "    } else if (nilai >= 50 && nilai <= 59){\n",
    "        System.out.println(\"Nilai D, Tingkatkan belajar Anda!\");\n",
    "    } else {\n",
    "        System.out.println(\"Nilai E, Anda tidak lulus!\");\n",
    "    }\n",
    "} else {\n",
    "     System.out.println(\"Nilai yang Anda masukkan tidak valid!\");\n",
    "}"
   ]
  },
  {
   "cell_type": "markdown",
   "metadata": {},
   "source": [
    "> Penjelasan kode program percobaan 1"
   ]
  },
  {
   "cell_type": "markdown",
   "metadata": {},
   "source": [
    "#### Penjelasan kode program percobaan 1\n",
    "Pada kode diatas, Kode yang digunakan pada percobaan 1 ialah pemilihan bersarang (nested if) untuk menentukan nilai kategori dalam tingkat kelulusan dari mahasiswa. Setelah diinputkan, ternyata kondisi 1 bernilai benar, maka input akan diproses. Kemudian tertulis hasil output dari sistem print. Kondisi 1 pada percobaan ialah Jika nilai lebih atau sama dengan 90 dan kurang dari 100, maka kategori nilai yang didapatkan ialah \"nilai A, Excellent\". Jika kondisi 1 bernilai salah, maka pernyataan else terluar (pasangan dari if yang bersangkutan, juga dapat disebut kondisi 2) yang akan diproses. Jika kondisi 2 bernilai salah (nilai yang diinputkan tidak lebihdarisamadengan 80 dan tidak kurangdarisamadengan 79), maka pernyataan else (pasangan dari if yang bersangkutan) yang akan diproses. Namun, jika input tidak termasuk dalam semua kondisi, maka penyeleksian kondisi akan dihentikan. Namun, jika pernyataan else (pasangan dari if) tidak ditulis, maka penyeleksian kondisi akan dihentikan. Dan akan tampil output pernyataan \"Nilai yang anda masukkan tidak valid!\""
   ]
  },
  {
   "cell_type": "markdown",
   "metadata": {},
   "source": [
    "##### Pertanyaan\n",
    "\n",
    "1. Modifikasi kode program pada Percobaan 1 sehingga jika nilai yang dimasukkan kurang dari 0 akan ditampilkan output “Nilai yang Anda masukkan kurang dari 0” dan jika nilai yang dimasukkan lebih dari 100 akan ditampilkan output “Nilai yang Anda masukkan lebih dari 100”!\n",
    "\n",
    "2. Jelaskan fungsi sintaks if (nilai >= 0 && nilai <= 100)!\n",
    "\n",
    "3. Ubah operator && menjadi || pada sintaks if (nilai >= 0 && nilai <= 100). Jalankan program dengan memasukkan nilai = 105. Amati apa yang terjadi! Mengapa hasilnya demikian?"
   ]
  },
  {
   "cell_type": "code",
   "execution_count": 3,
   "metadata": {},
   "outputs": [
    {
     "name": "stdout",
     "output_type": "stream",
     "text": [
      "Nilai yang Anda masukkan tidak valid!\n"
     ]
    }
   ],
   "source": [
    "if(nilai <= 0 && nilai >= 100){\n",
    "    if(nilai <= 0){\n",
    "        System.out.println(\"Nilai A yang anda masukkan kurang dari 0\");\n",
    "    } else {\n",
    "        System.out.println(\"Nilai yang anda masukkan lebih dari 100\");\n",
    "    }\n",
    "} else {\n",
    "     System.out.println(\"Nilai yang Anda masukkan tidak valid!\");\n",
    "}"
   ]
  },
  {
   "cell_type": "markdown",
   "metadata": {},
   "source": [
    "#### // Jawaban pertanyaan No 2\n",
    "fungsi dari sintaks if(nilai >= 0 && nilai <= 100) ialah untuk memberi batasan pada nilai variabel. Nilai dibatasi mulai dari lebih dari sama dengan 0 hingga kurang dari sama dengan 100."
   ]
  },
  {
   "cell_type": "code",
   "execution_count": 4,
   "metadata": {
    "scrolled": true
   },
   "outputs": [
    {
     "name": "stdout",
     "output_type": "stream",
     "text": [
      "Masukkan nilai 105\n",
      "Nilai E, Anda tidak lulus!\n"
     ]
    }
   ],
   "source": [
    "// kode program jawaban No 3\n",
    "\n",
    "import java.util.Scanner;\n",
    "Scanner input = new Scanner(System.in);\n",
    "int nilai;\n",
    "System.out.print(\"Masukkan nilai \");\n",
    "nilai = input.nextInt();\n",
    "\n",
    "if(nilai >= 0 || nilai <= 100){\n",
    "    if(nilai >= 90 && nilai <= 100){\n",
    "        System.out.println(\"Nilai A, EXCELLENT!\");\n",
    "    } else if (nilai >= 80 && nilai <= 89){\n",
    "        System.out.println(\"Nilai B, Pertahankan prestasi Anda!\");\n",
    "    } else if (nilai >= 60 && nilai <= 79){\n",
    "        System.out.println(\"Nilai C, Pertahankan prestasi Anda!\");\n",
    "    } else if (nilai >= 50 && nilai <= 59){\n",
    "        System.out.println(\"Nilai D, Tingkatkan belajar Anda!\");\n",
    "    } else {\n",
    "        System.out.println(\"Nilai E, Anda tidak lulus!\");\n",
    "    }\n",
    "} else {\n",
    "     System.out.println(\"Nilai yang Anda masukkan tidak valid!\");\n",
    "}"
   ]
  },
  {
   "cell_type": "markdown",
   "metadata": {},
   "source": [
    "#### Jawaban No 3\n",
    "Hasil output yang muncul ialah tulisan berupa \"Nilai E, Anda tidak lulus!\" Hal demikian terjadi dikarenakan pada sintaks if(nilai >= 0 || nilai <= 100) hasil yang akan diproses ialah nilai yang lebih dari samadengan 0 atau kurangdari sama dengan 0, nilai yang diinputkan yaitu 105 berada di luar batasan tersebut. Dengan demikian, kode tidak memproses data input lebih lanjut dan hanya menterjemahkan perintah \"Nilai E, Anda tidak lulus!\""
   ]
  },
  {
   "cell_type": "markdown",
   "metadata": {},
   "source": [
    "#### Percobaan 2\n",
    "\n",
    "#### Waktu percobaan : 40 menit"
   ]
  },
  {
   "cell_type": "markdown",
   "metadata": {},
   "source": [
    "1. Perhatikan flowchart dibawah ini!\n",
    "\n",
    "![](images/02.png)\n",
    "\n",
    "> Flowchart tersebut digunakan untuk menghitung gaji bersih seseorang setelah dipotong pajak sesuai dengan kategorinya (pekerja dan pebisnis) dan besarnya penghasilan. "
   ]
  },
  {
   "cell_type": "markdown",
   "metadata": {},
   "source": [
    "2. Tambahkan library Scanner dan deklarasi Scanner\n",
    "\n",
    "3. Deklarasikan variabel kategori, penghasilan, gajiBersih, dan pajak\n",
    "\n",
    "    ![](images/05.png)"
   ]
  },
  {
   "cell_type": "code",
   "execution_count": 5,
   "metadata": {},
   "outputs": [
    {
     "name": "stdout",
     "output_type": "stream",
     "text": [
      "Masukkan kategori: pebisnis\n",
      "Masukkan besarnya penghasilan: 5000000\n"
     ]
    }
   ],
   "source": [
    "// Ketik kode di sini\n",
    "import java.util.Scanner;\n",
    "Scanner input = new Scanner(System.in);\n",
    "String kategori;\n",
    "int penghasilan, gajiBersih;\n",
    "double pajak = 0;\n",
    "\n",
    "System.out.print(\"Masukkan kategori: \");\n",
    "kategori = input.nextLine();\n",
    "System.out.print(\"Masukkan besarnya penghasilan: \");\n",
    "penghasilan = input.nextInt();"
   ]
  },
  {
   "cell_type": "markdown",
   "metadata": {},
   "source": [
    "4. Buatlah struktur pengecekan kondisi bersarang. Pengecekan pertama digunakan untuk mengecek kategori (pekerja atau pebisnis). Selanjutnya dilakukan pengecekan kedua untuk menentukan besarnya pajak berdasarkan penghasilan yang telah dimasukkan.Kemudian tambahkan kode program untuk menghitung gaji bersih yang diterima setelah dipotong pajak!\n",
    "\n",
    "    ![](images/06.png)"
   ]
  },
  {
   "cell_type": "code",
   "execution_count": 6,
   "metadata": {},
   "outputs": [
    {
     "name": "stdout",
     "output_type": "stream",
     "text": [
      "Gaji bersih yang Anda terima: 3750000\n"
     ]
    }
   ],
   "source": [
    "// Ketik kode di sini\n",
    "if(kategori.equalsIgnoreCase (\"pekerja\")){\n",
    "    if (penghasilan <= 2000000){\n",
    "        pajak = 0.1;\n",
    "    } else if (penghasilan <= 3000000){\n",
    "        pajak = 0.15;\n",
    "    } else {\n",
    "        pajak = 0.2;\n",
    "    }\n",
    "    gajiBersih = (int) (penghasilan - (penghasilan * pajak));\n",
    "    System.out.println(\"Gaji bersih yang Anda terima: \" + gajiBersih);\n",
    "    \n",
    "} else if (kategori.equalsIgnoreCase (\"pebisnis\")){\n",
    "    if (penghasilan <= 2500000){\n",
    "        pajak = 0.15;\n",
    "    } else if (penghasilan <= 3500000){\n",
    "        pajak = 0.2;\n",
    "    } else {\n",
    "        pajak = 0.25;\n",
    "    }\n",
    "    gajiBersih = (int) (penghasilan - (penghasilan * pajak));\n",
    "    System.out.println(\"Gaji bersih yang Anda terima: \" + gajiBersih);\n",
    "} else {\n",
    "    System.out.println(\"Kategori yang anda masukkan tidak valid!\");\n",
    "}"
   ]
  },
  {
   "cell_type": "markdown",
   "metadata": {},
   "source": [
    "5. Jalankan program di atas. Amati apa yang terjadi!"
   ]
  },
  {
   "cell_type": "markdown",
   "metadata": {},
   "source": [
    "Hal yang terjadi ialah hasil output berupa hasil gaji bersih yang diterima sejumlah 3750000"
   ]
  },
  {
   "cell_type": "markdown",
   "metadata": {},
   "source": [
    "> Penjelasan kode program percobaan 2"
   ]
  },
  {
   "cell_type": "markdown",
   "metadata": {},
   "source": [
    "#### Penjelasan kode program percobaan 2\n",
    "Kode yang digunakan pada percobaan 2 ialah pemilihan bersarang (nested if) untuk menemukan jumlah gaji bersih dari pendapatan seseorang. Disini berupa 2 kategori yakni pebisnis dan pekerja. Pada kode program tersebut, user diminta untuk memasukkan input, apakah kategori pekerja atau pebisnis. Selanjutnya user juga diminta untuk memasukkan jumlah penghasilan. Kondisi yang akan diseleksi pertama kali adalah kategorinya, pebisnis atau pekerja. Jika pengguna memasukkan input pebisnis, maka seleksi kondisi ini bernilai benar, dan selanjutnya dilakukan penyeleksian penghasilan untuk menentukan pajak yang diterima. Setelah itu didapatkan hasil output sesuai program yang telah dibuat. Jika misalnya pada pengecekan pertama, kategori yang dimasukkan bukanlah pebisnis atau pekerja, maka program tidak akan memproses pengecekan ke-2, melainkan langsung menghasilkan output berupa pernyataan \"Kategori yang anda masukkan tidak valid!\""
   ]
  },
  {
   "cell_type": "markdown",
   "metadata": {},
   "source": [
    "##### Pertanyaan\n",
    "\n",
    "1. Jalankan program dengan memasukkan kategori = pekerja dan penghasilan = 2048485. Amati apa yang terjadi! Mengapa angka di belakang koma tidak ditampilkan?\n",
    "\n",
    "2. Jelaskan fungsi dari (int) pada sintaks:\n",
    "```\n",
    "gajiBersih = (int) (penghasilan - (penghasilan * pajak));\n",
    "```\n",
    "\n",
    "3.\tJalankan program dengan memasukkan kategori = pebisnis dan penghasilan = 2000000. Amati apa yang terjadi! Apa kegunaan dari equalsIgnoreCase?\n",
    "\n",
    "4.\tUbah equalsIgnoreCase menjadi equals, kemudian jalankan program dengan memasukkan kategori = pebisnis dan penghasilan = 2000000. Amati apa yang terjadi! Mengapa hasilnya demikian? Apa kegunaan dari equals?"
   ]
  },
  {
   "cell_type": "code",
   "execution_count": 7,
   "metadata": {},
   "outputs": [
    {
     "name": "stdout",
     "output_type": "stream",
     "text": [
      "Masukkan kategori: pekerja\n",
      "Masukkan besarnya penghasilan: 2048485\n",
      "Gaji bersih yang Anda terima: 1741212\n"
     ]
    }
   ],
   "source": [
    "// Jawaban pertanyaan No 1\n",
    "import java.util.Scanner;\n",
    "Scanner input = new Scanner(System.in);\n",
    "String kategori;\n",
    "int penghasilan, gajiBersih;\n",
    "double pajak = 0;\n",
    "\n",
    "System.out.print(\"Masukkan kategori: \");\n",
    "kategori = input.nextLine();\n",
    "System.out.print(\"Masukkan besarnya penghasilan: \");\n",
    "penghasilan = input.nextInt();\n",
    "\n",
    "if(kategori.equalsIgnoreCase (\"pekerja\")){\n",
    "    if (penghasilan <= 2000000){\n",
    "        pajak = 0.1;\n",
    "    } else if (penghasilan <= 3000000){\n",
    "        pajak = 0.15;\n",
    "    } else {\n",
    "        pajak = 0.2;\n",
    "    }\n",
    "    gajiBersih = (int) (penghasilan - (penghasilan * pajak));\n",
    "    System.out.println(\"Gaji bersih yang Anda terima: \" + gajiBersih);\n",
    "    \n",
    "} else if (kategori.equalsIgnoreCase (\"pebisnis\")){\n",
    "    if (penghasilan <= 2500000){\n",
    "        pajak = 0.15;\n",
    "    } else if (penghasilan <= 3500000){\n",
    "        pajak = 0.2;\n",
    "    } else {\n",
    "        pajak = 0.25;\n",
    "    }\n",
    "    gajiBersih = (int) (penghasilan - (penghasilan * pajak));\n",
    "    System.out.println(\"Gaji bersih yang Anda terima: \" + gajiBersih);\n",
    "} else {\n",
    "    System.out.println(\"Kategori yang anda masukkan tidak valid!\");\n",
    "}"
   ]
  },
  {
   "cell_type": "markdown",
   "metadata": {},
   "source": [
    "#### Jawaban pertanyaan No 1\n",
    "Output yang dihasilkan berupa gaji bersih sebesar 174.212. Angka dibelakang koma tidak ditampilkan sebab tipe data yang digunakan pada program akhir (gaji bersih) ialah tipe data int yang berupa bilangan bulat."
   ]
  },
  {
   "cell_type": "markdown",
   "metadata": {},
   "source": [
    "#### Jawaban pertanyaan No 2\n",
    "fungsi dari (int) pada sintaks gajiBersih = (int) (penghasilan - (penghasilan * pajak)) ialah sebagai tipe data dari nilai sebuah variabel. Pada kasus ini, nilai yang diinginkan berupa data angka mulai dari -2milyar sekian hingga 2milyar sekian. (-2147483648 hingga 2147483647)"
   ]
  },
  {
   "cell_type": "code",
   "execution_count": 8,
   "metadata": {},
   "outputs": [
    {
     "name": "stdout",
     "output_type": "stream",
     "text": [
      "Masukkan kategori: PeBisNis\n",
      "Masukkan besarnya penghasilan: 2000000\n",
      "Gaji bersih yang Anda terima: 1700000\n"
     ]
    }
   ],
   "source": [
    "//Jawaban kode program No 3\n",
    "\n",
    "import java.util.Scanner;\n",
    "Scanner input = new Scanner(System.in);\n",
    "String kategori;\n",
    "int penghasilan, gajiBersih;\n",
    "double pajak = 0;\n",
    "\n",
    "System.out.print(\"Masukkan kategori: \");\n",
    "kategori = input.nextLine();\n",
    "System.out.print(\"Masukkan besarnya penghasilan: \");\n",
    "penghasilan = input.nextInt();\n",
    "\n",
    "if(kategori.equalsIgnoreCase (\"pekerja\")){\n",
    "    if (penghasilan <= 2000000){\n",
    "        pajak = 0.1;\n",
    "    } else if (penghasilan <= 3000000){\n",
    "        pajak = 0.15;\n",
    "    } else {\n",
    "        pajak = 0.2;\n",
    "    }\n",
    "    gajiBersih = (int) (penghasilan - (penghasilan * pajak));\n",
    "    System.out.println(\"Gaji bersih yang Anda terima: \" + gajiBersih);\n",
    "    \n",
    "} else if (kategori.equalsIgnoreCase (\"pebisnis\")){\n",
    "    if (penghasilan <= 2500000){\n",
    "        pajak = 0.15;\n",
    "    } else if (penghasilan <= 3500000){\n",
    "        pajak = 0.2;\n",
    "    } else {\n",
    "        pajak = 0.25;\n",
    "    }\n",
    "    gajiBersih = (int) (penghasilan - (penghasilan * pajak));\n",
    "    System.out.println(\"Gaji bersih yang Anda terima: \" + gajiBersih);\n",
    "} else {\n",
    "    System.out.println(\"Kategori yang anda masukkan tidak valid!\");\n",
    "}"
   ]
  },
  {
   "cell_type": "markdown",
   "metadata": {},
   "source": [
    "#### Penjelasan jawaban No 3\n",
    "Yang terjadi ialah dari input yang telah dimasukkan, menghasilkan output gaji bersih yang diterima sejumlah Rp 1.700.000,- \n",
    "Kegunaan dari method equalsIgnoreCase sendiri ialah untuk membuat data input tidak akan membedakan (menyamaratakan) huruf besar ataupun kecil, yang terpenting mempunyai nilai yang sama, maka akan tetap menghasilkan true, dan akan lanjut diproses."
   ]
  },
  {
   "cell_type": "code",
   "execution_count": 9,
   "metadata": {},
   "outputs": [
    {
     "name": "stdout",
     "output_type": "stream",
     "text": [
      "Masukkan kategori: peBISnis\n",
      "Masukkan besarnya penghasilan: 2000000\n",
      "Kategori yang anda masukkan tidak valid!\n"
     ]
    }
   ],
   "source": [
    "// Jawaban kode program No 4\n",
    "\n",
    "import java.util.Scanner;\n",
    "Scanner input = new Scanner(System.in);\n",
    "String kategori;\n",
    "int penghasilan, gajiBersih;\n",
    "double pajak = 0;\n",
    "\n",
    "System.out.print(\"Masukkan kategori: \");\n",
    "kategori = input.nextLine();\n",
    "System.out.print(\"Masukkan besarnya penghasilan: \");\n",
    "penghasilan = input.nextInt();\n",
    "\n",
    "if(kategori.equals (\"pekerja\")){\n",
    "    if (penghasilan <= 2000000){\n",
    "        pajak = 0.1;\n",
    "    } else if (penghasilan <= 3000000){\n",
    "        pajak = 0.15;\n",
    "    } else {\n",
    "        pajak = 0.2;\n",
    "    }\n",
    "    gajiBersih = (int) (penghasilan - (penghasilan * pajak));\n",
    "    System.out.println(\"Gaji bersih yang Anda terima: \" + gajiBersih);\n",
    "    \n",
    "} else if (kategori.equals (\"pebisnis\")){\n",
    "    if (penghasilan <= 2500000){\n",
    "        pajak = 0.15;\n",
    "    } else if (penghasilan <= 3500000){\n",
    "        pajak = 0.2;\n",
    "    } else {\n",
    "        pajak = 0.25;\n",
    "    }\n",
    "    gajiBersih = (int) (penghasilan - (penghasilan * pajak));\n",
    "    System.out.println(\"Gaji bersih yang Anda terima: \" + gajiBersih);\n",
    "} else {\n",
    "    System.out.println(\"Kategori yang anda masukkan tidak valid!\");\n",
    "}"
   ]
  },
  {
   "cell_type": "markdown",
   "metadata": {},
   "source": [
    "#### Penjelasan Jawaban No 4\n",
    "\n",
    "Yang terjadi ialah dari input yang telah dimasukkan, menghasilkan output pernyataan \"Kategori yang anda masukkan tidak valid!\" Hal ini terjadi sebab method yang dimasukkan berupa method equals.\n",
    "Kegunaan dari method equals sendiri ialah membuat data input membedakan huruf besar ataupun kecil. Method equals akan membandingkan nilai pada dua buah variable, yang mempunyai data yang sama, dari segi huruf besar dan kecil, jadi jika ada salah satu huruf dengan ukuran yang tidak sama, maka akan menghasilkan false. Seperti yang terjadi pada percobaan diatas, \"pebisnis\" dan \"PeBisnis\" akan diliat sebagai kategori variabel yang berbeda oleh program. Oleh karenanya, input tidak akan diproses lalu menghasilkan pernyataan else paling luar dari segala kondisi yang pada percobaan berupa pernyataan \"Kategori yang anda masukkan tidak valid!\""
   ]
  },
  {
   "cell_type": "markdown",
   "metadata": {},
   "source": [
    "### Tugas\n",
    "\n",
    "#### Waktu pengerjaan Tugas: 140 menit\n",
    "\n",
    "1. Buatlah program kalkulator sederhana menggunakan bahasa pemrograman Java. User akan menginputkan dua buah bilangan riil dan satu buah operator aritmatika (+, -, *, atau /), kemudian program akan mengoperasikan dua bilangan tersebut dengan operator yang sesuai. Petunjuk: gunakan pernyataan switch-case.\n",
    "Contoh tampilan program:\n",
    "\n",
    "```\n",
    "Masukkan bilangan pertama: 2.5\n",
    "Masukkan operator (+, -, *, /): *\n",
    "Masukkan bilangan kedua: 4\n",
    "2.5 * 4.0 = 10.0\n",
    "\n",
    "```"
   ]
  },
  {
   "cell_type": "code",
   "execution_count": 10,
   "metadata": {
    "scrolled": true
   },
   "outputs": [
    {
     "name": "stdout",
     "output_type": "stream",
     "text": [
      "Masukkan bilangan pertama: 2.5\n",
      "Masukkan operator (+ - * /): \n",
      "*\n",
      "Masukkan bilangan kedua: \n",
      "4\n",
      "2.5 * 4.0 = 10.0\n"
     ]
    }
   ],
   "source": [
    "//ketik kode program dan lampirkan hasilnya disini\n",
    "import java.util.Scanner;\n",
    "Scanner sc = new Scanner(System.in);\n",
    "double bilangan1, bilangan2, hasil;\n",
    "char operator;\n",
    "\n",
    "System.out.print(\"Masukkan bilangan pertama: \");\n",
    "bilangan1 = sc.nextDouble();\n",
    "System.out.println(\"Masukkan operator (+ - * /): \");\n",
    "operator = sc.next().charAt(0);\n",
    "System.out.println(\"Masukkan bilangan kedua: \");\n",
    "bilangan2 = sc.nextDouble();\n",
    "\n",
    "switch(operator) {\n",
    "    case '+' :\n",
    "        hasil = bilangan1 + bilangan2;\n",
    "        System.out.println(bilangan1 + \" + \" + bilangan2 + \" = \" + hasil);\n",
    "        break;\n",
    "    case '-' :\n",
    "        hasil = bilangan1 - bilangan2;\n",
    "        System.out.println(bilangan1 + \" - \" + bilangan2 + \" = \" + hasil);\n",
    "        break;\n",
    "    case '*' :\n",
    "        hasil = bilangan1 * bilangan2;\n",
    "        System.out.println(bilangan1 + \" * \" + bilangan2 + \" = \" + hasil);\n",
    "        break;\n",
    "    case '/' :\n",
    "        hasil = bilangan1 / bilangan2;\n",
    "        System.out.println(bilangan1 + \" / \" + bilangan2 + \" = \" + hasil);\n",
    "        break;\n",
    "        default:\n",
    "        System.out.println(\"Operator yang Anda masukkan salah!\");   \n",
    "}"
   ]
  },
  {
   "cell_type": "markdown",
   "metadata": {},
   "source": [
    "2. Dengan menggunakan tiga nilai yang mewakili panjang tiga sisi sebuah segitiga, tentukan apakah segitiga tersebut sama sisi (ketiga sisinya bernilai sama), sama kaki (kedua sisinya bernilai sama), atau sembarang (tidak ada sisi yang bernilai sama)! "
   ]
  },
  {
   "cell_type": "code",
   "execution_count": 11,
   "metadata": {},
   "outputs": [
    {
     "name": "stdout",
     "output_type": "stream",
     "text": [
      "Menentukan jenis segitiga\n",
      "Masukkan nilai sisi pertama: \n",
      "15\n",
      "Masukkan nilai sisi kedua: \n",
      "27\n",
      "Masukkan nilai sisi ketiga: \n",
      "15\n",
      "Jenis segitiga sama sisi\n"
     ]
    }
   ],
   "source": [
    "//ketik kode program dan lampirkan hasilnya disini\n",
    "import java.util.Scanner;\n",
    "Scanner sc = new Scanner(System.in);\n",
    "int sisi1, sisi2, sisi3;\n",
    "\n",
    "System.out.println(\"Menentukan jenis segitiga\");\n",
    "System.out.println(\"Masukkan nilai sisi pertama: \");\n",
    "sisi1 = sc.nextInt();\n",
    "System.out.println(\"Masukkan nilai sisi kedua: \");\n",
    "sisi2 = sc.nextInt();\n",
    "System.out.println(\"Masukkan nilai sisi ketiga: \");\n",
    "sisi3 = sc.nextInt();\n",
    "\n",
    "if(sisi1==sisi2 || sisi1==sisi3 || sisi2==sisi3){\n",
    "    System.out.println(\"Jenis segitiga sama sisi\");\n",
    "} else if (sisi1==sisi2 && sisi2!=sisi3 && sisi1!=sisi3 || sisi2==sisi3 && sisi2!=sisi1 && sisi1!=sisi3 || sisi1==sisi3 && sisi2!=sisi1 && sisi2!=sisi3){\n",
    "    System.out.println(\"Jenis segitiga sama kaki\");\n",
    "} else {\n",
    "    System.out.println(\"Jenis segitiga sama sembarang\");\n",
    "}"
   ]
  },
  {
   "cell_type": "markdown",
   "metadata": {},
   "source": [
    "3. Warung Padang Gembira meminta Anda membuat sebuah program untuk menerima pesanan dari internet. Program yang Anda buat meminta user untuk memasukkan nama makanan dan harga. Setelah itu, user ditawarkan untuk menggunakan pengiriman ekspres. Jika pengguna menolak, maka jenis pengiriman yang digunakan adalah pengiriman reguler. Biaya pengiriman reguler untuk harga makanan kurang dari Rp 100.000 adalah Rp 20.000, sedangkan untuk harga makanan sama dengan atau lebih dari Rp 100.000 biaya pengirimannya adalah Rp 30.000. Untuk jenis pengiriman ekspres, tambahkan biaya tambahan sebesar Rp 25.000 dari standar biaya pengiriman reguler. Tampilkan struk yang berisi nama makanan yang dibeli + harga, biaya pengiriman, dan total yang harus dibayar!\n",
    "Contoh hasil output program:\n",
    "\n",
    "```\n",
    "Masukkan nama makanan: Tuna salad\n",
    "Masukkan harga makanan: Rp 115000\n",
    "Apakah Anda ingin pengiriman ekspres (0 = tidak, 1 = ya)? 0\n",
    "\n",
    "STRUK PEMBELIAN\n",
    "Tuna salad        Rp 115000\n",
    "Biaya pengiriman  Rp 30000\n",
    "TOTAL             Rp 145000\n",
    "\n",
    "```\n",
    "\n",
    "```\n",
    "Masukkan nama makanan: Beef bulgogi\n",
    "Masukkan harga makanan: Rp 78000\n",
    "Apakah Anda ingin pengiriman ekspres (0 = tidak, 1 = ya)? 1\n",
    "\n",
    "STRUK PEMBELIAN\n",
    "Beef bulgogi      Rp 115000\n",
    "Biaya pengiriman  Rp 45000\n",
    "TOTAL             Rp 123000\n",
    "\n",
    "```\n",
    "\n"
   ]
  },
  {
   "cell_type": "code",
   "execution_count": 12,
   "metadata": {},
   "outputs": [
    {
     "name": "stdout",
     "output_type": "stream",
     "text": [
      "Masukkan Nama Makanan  : Tuna Salad\n",
      "Masukkan Harga Makanan : Rp 115000\n",
      "Apakah Anda ingin pengiriman ekspres ? : (0 = tidak , 1 = iya) 0\n",
      "\n",
      "==== Struk Pembelian ====\n",
      "\n",
      "Tuna Salad\t : Rp 115000\n",
      "Biaya Pengiriman : Rp 30000\n",
      "TOTAL\t\t : Rp 145000\n"
     ]
    }
   ],
   "source": [
    "//ketik kode program dan lampirkan hasilnya disini\n",
    "import java.util.Scanner;\n",
    " Scanner sc = new Scanner (System.in);\n",
    "    String namaMakanan;\n",
    "    int hargaMakanan,total,pilihan;\n",
    "    int biaya = 0;\n",
    "    int biayaEks=25000;\n",
    "\n",
    "        \n",
    "        System.out.print(\"Masukkan Nama Makanan  : \" );\n",
    "        namaMakanan=sc.nextLine();\n",
    "        System.out.print(\"Masukkan Harga Makanan : Rp \" );\n",
    "        hargaMakanan=sc.nextInt();\n",
    "        System.out.print(\"Apakah Anda ingin pengiriman ekspres ? : (0 = tidak , 1 = iya) \");\n",
    "        pilihan=sc.nextInt();\n",
    "         System.out.println(\"\");\n",
    "        if(pilihan==0){\n",
    "            if(hargaMakanan>=100000){\n",
    "                   biaya = 30000;\n",
    "                   total= biaya+hargaMakanan;\n",
    "                  \n",
    "            }else{\n",
    "                 biaya=20000;\n",
    "                 total= biaya+hargaMakanan;     \n",
    "            }\n",
    "            System.out.println(\"==== Struk Pembelian ====\");\n",
    "            System.out.println(\"\");\n",
    "            System.out.println(namaMakanan+\"\\t : Rp \"+hargaMakanan);\n",
    "            System.out.println(\"Biaya Pengiriman : Rp \"+biaya);\n",
    "            System.out.println(\"TOTAL\\t\\t : Rp \"+total);\n",
    "            \n",
    "        }else if(pilihan==1){\n",
    "           if(hargaMakanan>=100000){\n",
    "                   biayaEks+=30000;\n",
    "                   total= biayaEks+hargaMakanan;\n",
    "                  \n",
    "            }else{\n",
    "                 biayaEks+=20000;\n",
    "                 total= biayaEks+hargaMakanan;     \n",
    "            }\n",
    "            \n",
    "            System.out.println(\"==== Struk Pembelian ====\");\n",
    "            System.out.println(\"\");\n",
    "            System.out.println(namaMakanan+\"\\t : Rp \"+hargaMakanan);\n",
    "            System.out.println(\"Biaya Pengiriman : Rp \"+biayaEks);\n",
    "            System.out.println(\"TOTAL\\t\\t : Rp \"+total);\n",
    "        }"
   ]
  },
  {
   "cell_type": "markdown",
   "metadata": {},
   "source": [
    "4. Perhatikan flowchart berikut ini!\n",
    "\n",
    "![](images/01.png)\n",
    "\n",
    "> Buatlah program sesuai dengan flowchart diatas!"
   ]
  },
  {
   "cell_type": "code",
   "execution_count": 13,
   "metadata": {},
   "outputs": [
    {
     "name": "stdout",
     "output_type": "stream",
     "text": [
      "Menentukan Kategori Penduduk \n",
      "Masukkan umur: \n",
      "21\n",
      "Masukkan status bekerja (0 = belum, 1 = sudah): \n",
      "1\n",
      "Masukkan Pendapatan Perbulan: \n",
      "3500000\n",
      "Masukkan Jumlah Tanggungan: \n",
      "2\n",
      "Biaya Hidup Anda : Rp 1750000\n",
      "Bukan Penduduk Miskin \n"
     ]
    }
   ],
   "source": [
    "//ketik kode program dan lampirkan hasilnya disini\n",
    "import java.util.Scanner;\n",
    "Scanner sc = new Scanner(System.in);\n",
    "int umur, statusBekerja, statusSekolah, pendapatan, jumlahTanggungan, biayaHidup;\n",
    "\n",
    "System.out.println(\"Menentukan Kategori Penduduk \");\n",
    "System.out.println(\"Masukkan umur: \");\n",
    "umur = sc.nextInt();\n",
    "\n",
    "if(umur >=18){\n",
    "    System.out.println(\"Masukkan status bekerja (0 = belum, 1 = sudah): \");\n",
    "    statusBekerja = sc.nextInt();\n",
    "    if(statusBekerja == 1){\n",
    "        System.out.println(\"Masukkan Pendapatan Perbulan: \");\n",
    "        pendapatan = sc.nextInt();\n",
    "        System.out.println(\"Masukkan Jumlah Tanggungan: \");\n",
    "        jumlahTanggungan = sc.nextInt();\n",
    "        biayaHidup = pendapatan/jumlahTanggungan;\n",
    "        System.out.println(\"Biaya Hidup Anda : Rp \" +biayaHidup);\n",
    "    if(biayaHidup <= 300000 && statusBekerja == 1){\n",
    "        System.out.println(\"Penduduk Miskin \");\n",
    "    } else if (biayaHidup >=300000){\n",
    "        System.out.println(\"Bukan Penduduk Miskin \");\n",
    "    }\n",
    "    } else if (statusBekerja == 0){\n",
    "        System.out.println(\"Penduduk Miskin\"); \n",
    "    }\n",
    "}else{\n",
    "    System.out.println(\"Masukkan status sekolah : (0 = belum, 1 = sudah)\");\n",
    "    statusSekolah = sc.nextInt();\n",
    "    if(statusSekolah== 1){\n",
    "        System.out.println(\"Bukan Penduduk Miskin \");\n",
    "    } else if (statusSekolah == 0){\n",
    "        System.out.println(\"Penduduk Miskin \");\n",
    "    }   \n",
    "}"
   ]
  }
 ],
 "metadata": {
  "kernelspec": {
   "display_name": "Java",
   "language": "java",
   "name": "java"
  },
  "language_info": {
   "codemirror_mode": "java",
   "file_extension": ".jshell",
   "mimetype": "text/x-java-source",
   "name": "Java",
   "pygments_lexer": "java",
   "version": "18-ea+16-926"
  },
  "nteract": {
   "version": "nteract-on-jupyter@2.1.3"
  }
 },
 "nbformat": 4,
 "nbformat_minor": 1
}
