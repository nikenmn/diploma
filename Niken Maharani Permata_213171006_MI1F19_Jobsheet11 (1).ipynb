{
 "cells": [
  {
   "cell_type": "markdown",
   "metadata": {},
   "source": [
    "#### Nama : Niken Maharani Permata\n",
    "#### Kelas / No abs : MI1F / 19\n",
    "#### NIM : 2131710006"
   ]
  },
  {
   "cell_type": "markdown",
   "metadata": {},
   "source": [
    "# JOBSHEET 11. ARRAY 2"
   ]
  },
  {
   "cell_type": "markdown",
   "metadata": {},
   "source": [
    "## Tujuan\n",
    "* Mahasiswa mampu memahami pembuatan array dua dimensi\n",
    "* Mahasiswa mampu menyelesaikan studi kasus dengan memanfaatkan array dua dimensi"
   ]
  },
  {
   "cell_type": "markdown",
   "metadata": {},
   "source": [
    "## Alat dan Bahan\n",
    "* PC/Laptop\n",
    "* Browser\n",
    "* Koneksi internet\n",
    "* Anaconda3 + Java kernel (opsional)"
   ]
  },
  {
   "cell_type": "markdown",
   "metadata": {},
   "source": [
    "## Praktikum"
   ]
  },
  {
   "cell_type": "markdown",
   "metadata": {},
   "source": [
    "### Percobaan 1: Deklarasi, Inisialisasi, dan Menampilkan Array 2 Dimensi\n",
    "Pada Percobaan 1, kode program yang dibuat digunakan untuk menyimpan nilai praktikum dari 2 orang mahasiswa pada 3 mata kuliah yang berbeda.\n",
    "1.\tBuat array bertipe **integer** dengan nama **nilai** dengan kapasitas baris 2 elemen (menyatakan jumlah mahasiswa) dan kolom 3 elemen (menyatakan jumlah mata kuliah)\n",
    "![Gambar 1](images/percobaan1-1.PNG)"
   ]
  },
  {
   "cell_type": "code",
   "execution_count": 1,
   "metadata": {},
   "outputs": [],
   "source": [
    "// Tuliskan kode program Percobaan 1 Langkah 1\n",
    "int [][] nilai = new int [2][3]"
   ]
  },
  {
   "cell_type": "markdown",
   "metadata": {},
   "source": [
    "2. Isi masing-masing elemen array **nilai** sebagai berikut:\n",
    "![Gambar 2](images/percobaan1-2.PNG)"
   ]
  },
  {
   "cell_type": "code",
   "execution_count": 2,
   "metadata": {},
   "outputs": [
    {
     "data": {
      "text/plain": [
       "67"
      ]
     },
     "execution_count": 2,
     "metadata": {},
     "output_type": "execute_result"
    }
   ],
   "source": [
    "// Tuliskan kode program Percobaan 1 Langkah 2\n",
    "nilai [0][0] = 75;\n",
    "nilai [0][1] = 90;\n",
    "nilai [0][2] = 88;\n",
    "nilai [1][0] = 79;\n",
    "nilai [1][1] = 82;\n",
    "nilai [1][2] = 67;"
   ]
  },
  {
   "cell_type": "markdown",
   "metadata": {},
   "source": [
    "3. Tampilkan semua isi elemen array **nilai**\n",
    "![Gambar 3](images/percobaan1-3.PNG)"
   ]
  },
  {
   "cell_type": "code",
   "execution_count": 3,
   "metadata": {},
   "outputs": [
    {
     "name": "stdout",
     "output_type": "stream",
     "text": [
      "75 90 88\n",
      "79 82 67\n"
     ]
    }
   ],
   "source": [
    "// Tuliskan kode program Percobaan 1 Langkah 2\n",
    "System.out.println(nilai[0][0] + \" \" + nilai[0][1] + \" \" + nilai [0][2]);\n",
    "System.out.println(nilai[1][0] + \" \" + nilai[1][1] + \" \" + nilai [1][2]);"
   ]
  },
  {
   "cell_type": "markdown",
   "metadata": {},
   "source": [
    "#### Pertanyaan\n",
    "1. Apakah pengisian elemen array harus dilakukan secara berurutan mulai dari indeks 0? Jelaskan!"
   ]
  },
  {
   "cell_type": "markdown",
   "metadata": {},
   "source": [
    "// Tuliskan jawaban nomor 1\n",
    "Iya, sebab array merupakan sebuah struktur data yang statis, dimana jumlah elemen yang ada harus ditentukan terlebih dahulu dan tak bisa di ubah saat program berjalan. Berarti, data harus dimasukkan secara berurutan mulai dari array ke-0 hingga ke-n. Nilai dalam sebuah array harus dimasukkan secara berurutan, namun dapat diakses secara acak."
   ]
  },
  {
   "cell_type": "markdown",
   "metadata": {},
   "source": [
    "2. Lakukan modifikasi pada Percobaan 1 Langkah 3 untuk menampilkan semua isi elemen array **nilai** menggunakan perulangan *for*"
   ]
  },
  {
   "cell_type": "code",
   "execution_count": 12,
   "metadata": {},
   "outputs": [
    {
     "name": "stdout",
     "output_type": "stream",
     "text": [
      "75 90 88  \n",
      "79 82 67  \n"
     ]
    }
   ],
   "source": [
    "// Tuliskan jawaban nomor 2\n",
    "int [][] nilai = new int [2][3];\n",
    "nilai [0][0] = 75;\n",
    "nilai [0][1] = 90;\n",
    "nilai [0][2] = 88;\n",
    "nilai [1][0] = 79;\n",
    "nilai [1][1] = 82;\n",
    "nilai [1][2] = 67;\n",
    "\n",
    "for(int [] ni : nilai){\n",
    "    for (int n: ni){\n",
    "     System.out.print(n + \" \");   \n",
    "    }\n",
    "    System.out.println(\" \");\n",
    "}"
   ]
  },
  {
   "cell_type": "markdown",
   "metadata": {},
   "source": [
    "### Percobaan 2: Mengisi Elemen Array 2 Dimensi Menggunakan Input Keyboard\n",
    "Pada Percobaan 2, kode program yang dibuat digunakan untuk menyimpan nilai rating restoran yang terdaftar pada aplikasi pemesanan makanan online. Rating diberikan oleh 4 orang pengguna kepada 2 restoran yang terdaftar.\n",
    "1. Import dan deklarasikan Scanner dengan nama **sc**\n",
    "![Gambar 4](images/percobaan2-1.jpg)"
   ]
  },
  {
   "cell_type": "code",
   "execution_count": 8,
   "metadata": {},
   "outputs": [],
   "source": [
    "// Tuliskan kode program Percobaan 2 Langkah 1\n",
    "import java.util.Scanner;\n",
    "Scanner sc = new Scanner (System.in);"
   ]
  },
  {
   "cell_type": "markdown",
   "metadata": {},
   "source": [
    "2.\tBuat array bertipe **integer** dengan nama **rating** dengan kapasitas baris 4 elemen (menyatakan jumlah pengguna) dan kolom 2 elemen (menyatakan jumlah restoran)\n",
    "![Gambar 5](images/percobaan2-2.PNG)"
   ]
  },
  {
   "cell_type": "code",
   "execution_count": 9,
   "metadata": {},
   "outputs": [],
   "source": [
    "// Tuliskan kode program Percobaan 2 Langkah 2\n",
    "int [][] rating = new int[4][2];"
   ]
  },
  {
   "cell_type": "markdown",
   "metadata": {},
   "source": [
    "3. Dengan menggunakan perulangan *for*, buat input untuk mengisi elemen array **rating**\n",
    "![Gambar 6](images/percobaan2-3.PNG)"
   ]
  },
  {
   "cell_type": "code",
   "execution_count": 10,
   "metadata": {},
   "outputs": [
    {
     "name": "stdout",
     "output_type": "stream",
     "text": [
      "Masukkan rating pengguna 0 untuk restoran 0 : 4\n",
      "Masukkan rating pengguna 0 untuk restoran 1 : 8\n",
      "\n",
      "Masukkan rating pengguna 1 untuk restoran 0 : 9\n",
      "Masukkan rating pengguna 1 untuk restoran 1 : 7\n",
      "\n",
      "Masukkan rating pengguna 2 untuk restoran 0 : 7\n",
      "Masukkan rating pengguna 2 untuk restoran 1 : 8\n",
      "\n",
      "Masukkan rating pengguna 3 untuk restoran 0 : 9\n",
      "Masukkan rating pengguna 3 untuk restoran 1 : 7\n",
      "\n"
     ]
    }
   ],
   "source": [
    "// Tuliskan kode program Percobaan 2 Langkah 3\n",
    "for (int i=0; i<rating.length; i++){\n",
    "    for (int j=0; j<rating[0].length; j++){\n",
    "        System.out.print(\"Masukkan rating pengguna \" +i+ \" untuk restoran \" +j+ \" : \");\n",
    "        rating[i][j] = sc.nextInt();\n",
    "    }\n",
    "    System.out.println(\"\");\n",
    "}"
   ]
  },
  {
   "cell_type": "markdown",
   "metadata": {},
   "source": [
    "4. Dengan menggunakan perulangan *for-each*, tampilkan semua isi elemen dari array **rating**\n",
    "![Gambar 7](images/percobaan2-4.PNG)"
   ]
  },
  {
   "cell_type": "code",
   "execution_count": 11,
   "metadata": {},
   "outputs": [
    {
     "name": "stdout",
     "output_type": "stream",
     "text": [
      "4 8  \n",
      "9 7  \n",
      "7 8  \n",
      "9 7  \n"
     ]
    }
   ],
   "source": [
    "// Tuliskan kode program Percobaan 2 Langkah 4\n",
    "for(int [] rtg : rating){\n",
    "    for (int r: rtg){\n",
    "     System.out.print(r + \" \");   \n",
    "    }\n",
    "    System.out.println(\" \");\n",
    "}"
   ]
  },
  {
   "cell_type": "markdown",
   "metadata": {},
   "source": [
    "#### Pertanyaan\n",
    "1. Pada Percobaan 2 Langkah 3, dapatkah posisi i ditukar dengan posisi i? Jelaskan alasannya!"
   ]
  },
  {
   "cell_type": "markdown",
   "metadata": {},
   "source": [
    "// Tuliskan jawaban nomor 1\n",
    "Dapat dilakukan. Disini i bertindak sebagai baris dan j sebagai kolom. Sebab penukaran posisi bisa dilakukan saat inisialisasi di awal program, dimana jumlah baris dan kolom ditentukan terlebih dahulu. Kita dapat mengubah posisi i dengan j pada saat tersebut. Pada kode modifikasi program, pengubahan hanya terdapat pada penggunaan variabel."
   ]
  },
  {
   "cell_type": "markdown",
   "metadata": {},
   "source": [
    "2. Tambahkan kode program untuk menentukan banyaknya baris dan kolom elemen array secara dinamis (baris dan kolom ditentukan saat program berjalan melalui input keyboard)!"
   ]
  },
  {
   "cell_type": "code",
   "execution_count": 5,
   "metadata": {},
   "outputs": [
    {
     "name": "stdout",
     "output_type": "stream",
     "text": [
      "Masukkan rating pengguna 0 untuk restoran 0 : 6\n",
      "Masukkan rating pengguna 0 untuk restoran 1 : 7\n",
      " \n",
      "Masukkan rating pengguna 1 untuk restoran 0 : 8\n",
      "Masukkan rating pengguna 1 untuk restoran 1 : 9\n",
      " \n",
      "Masukkan rating pengguna 2 untuk restoran 0 : 7\n",
      "Masukkan rating pengguna 2 untuk restoran 1 : 8\n",
      " \n",
      "Masukkan rating pengguna 3 untuk restoran 0 : 9\n",
      "Masukkan rating pengguna 3 untuk restoran 1 : 8\n",
      " \n",
      "6 7  \n",
      "8 9  \n",
      "7 8  \n",
      "9 8  \n",
      "Banyaknya baris adalah 4\n",
      "Banyaknya kolom adalah 2\n"
     ]
    }
   ],
   "source": [
    "// Tuliskan jawaban nomor 2\n",
    "import java.util.Scanner;\n",
    "Scanner sc = new Scanner (System.in);\n",
    "\n",
    "int [][] rating = new int[4][2];\n",
    "for (int i=0; i<rating.length; i++){\n",
    "    for (int j=0; j<rating[0].length; j++){\n",
    "        System.out.print(\"Masukkan rating pengguna \" +i+ \" untuk restoran \" +j+ \" : \");\n",
    "        rating[i][j] = sc.nextInt();\n",
    "    }\n",
    "    System.out.println(\" \");\n",
    "}\n",
    "\n",
    "for(int [] rtg : rating){\n",
    "    for (int r: rtg){\n",
    "     System.out.print(r + \" \");   \n",
    "    }\n",
    "    System.out.println(\" \");\n",
    "}\n",
    "System.out.println(\"Banyaknya baris adalah \" +rating.length);\n",
    "System.out.println(\"Banyaknya kolom adalah \" +rating[0].length);"
   ]
  },
  {
   "cell_type": "markdown",
   "metadata": {},
   "source": [
    "### Percobaan 3: Melakukan Operasi Aritmatika pada Elemen Array 2 Dimensi\n",
    "Pada Percobaan 3, kode program yang dibuat digunakan untuk menghitung nilai rata-rata harga setiap bahan pokok selama 1 satu semester. Terdapat 3 bahan pokok yang dicatat harganya setiap akhir bulan. Program dibuat berdasarkan flowchart berikut.\n",
    "![Gambar 8](images/percobaan3.jpg)\n",
    "1. Import dan deklarasikan Scanner dengan nama **sc**\n",
    "![Gambar 9](images/percobaan3-1.jpg)"
   ]
  },
  {
   "cell_type": "code",
   "execution_count": 7,
   "metadata": {},
   "outputs": [],
   "source": [
    "// Tuliskan kode program Percobaan 3 Langkah 1\n",
    "import java.util.Scanner;\n",
    "Scanner sc = new Scanner(System.in);"
   ]
  },
  {
   "cell_type": "markdown",
   "metadata": {},
   "source": [
    "2.\tBuat array bertipe **integer** dengan nama **harga** dengan kapasitas baris 3 elemen (menyatakan jumlah bahan pokok) dan kolom 6 elemen (menyatakan jumlah bulan). Deklarasikan juga variabel **total** dan **rata** bertipe **double**\n",
    "![Gambar 10](images/percobaan3-2.PNG)"
   ]
  },
  {
   "cell_type": "code",
   "execution_count": 8,
   "metadata": {},
   "outputs": [],
   "source": [
    "// Tuliskan kode program Percobaan 3 Langkah 2\n",
    "int [][] harga = new int[3][6];\n",
    "double total, rata;"
   ]
  },
  {
   "cell_type": "markdown",
   "metadata": {},
   "source": [
    "3. Dengan menggunakan perulangan *for*, buat input untuk mengisi elemen array **harga**. Kemudian, perhitungan total harga dilakukan untuk setiap bulan (kolom) pada setiap bahan pokok (baris). Setelah itu, nilai rata-rata dihitung untuk setiap bahan pokok (tiap satu baris) dan ditampilkan\n",
    "![Gambar 11](images/percobaan3-3.PNG)"
   ]
  },
  {
   "cell_type": "code",
   "execution_count": 9,
   "metadata": {},
   "outputs": [
    {
     "name": "stdout",
     "output_type": "stream",
     "text": [
      "Masukkan harga [0][0]: 30000\n",
      "Masukkan harga [0][1]: 20000\n",
      "Masukkan harga [0][2]: 50000\n",
      "Masukkan harga [0][3]: 45050\n",
      "Masukkan harga [0][4]: 56700\n",
      "Masukkan harga [0][5]: 67900\n",
      "Rata-rata harga bahan ke-0 adalah 44941.67\n",
      "Masukkan harga [1][0]: 30000\n",
      "Masukkan harga [1][1]: 34000\n",
      "Masukkan harga [1][2]: 67900\n",
      "Masukkan harga [1][3]: 56400\n",
      "Masukkan harga [1][4]: 46000\n",
      "Masukkan harga [1][5]: 67000\n",
      "Rata-rata harga bahan ke-1 adalah 50216.67\n",
      "Masukkan harga [2][0]: 45000\n",
      "Masukkan harga [2][1]: 56000\n",
      "Masukkan harga [2][2]: 78000\n",
      "Masukkan harga [2][3]: 45000\n",
      "Masukkan harga [2][4]: 34600\n",
      "Masukkan harga [2][5]: 57000\n",
      "Rata-rata harga bahan ke-2 adalah 52600.00\n"
     ]
    }
   ],
   "source": [
    "// Tuliskan kode program Percobaan 3 Langkah 3\n",
    "for (int i=0; i<harga.length; i++){\n",
    "    total = 0;\n",
    "    rata = 0;\n",
    "    for(int j=0; j<harga[0].length; j++){\n",
    "        System.out.printf(\"Masukkan harga [%d][%d]: \", i,j);\n",
    "        harga[i][j] = sc.nextInt();\n",
    "        total += harga [i][j];\n",
    "    }\n",
    "    rata = total / harga[0].length;\n",
    "    System.out.printf(\"Rata-rata harga bahan ke-%d adalah %.2f\\n\", i, rata);\n",
    "}"
   ]
  },
  {
   "cell_type": "markdown",
   "metadata": {},
   "source": [
    "#### Pertanyaan\n",
    "1. Jelaskan fungsi dari **rata = total / harga[0].length**!"
   ]
  },
  {
   "cell_type": "markdown",
   "metadata": {},
   "source": [
    "// Tuliskan jawaban nomor 1\n",
    "Fungsi dari kode program tersebut ialah untuk menghitung rata-rata yang berasal dari hasil bagi total oleh jumlah barang yang dibeli"
   ]
  },
  {
   "cell_type": "markdown",
   "metadata": {},
   "source": [
    "2. Mengapa insialisasi variabel **total = 0** dan **rata = 0** berada di dalam perulangan *for* yang pertama? Menurut Anda, apa yang terjadi jika inisialisasi kedua variabel tersebut diletakkan di luar perulangan *for* (setelah deklarasi array)?"
   ]
  },
  {
   "cell_type": "markdown",
   "metadata": {},
   "source": [
    "// Tuliskan jawaban nomor 2\n",
    "Sebab inisialisasi total = 0 dan rata = 0 dibutuhkan untuk menjalankan perulangan for yang pertama, dimana dibutuhkan nilai awal dari variabel total dan rata. Menurut saya, hal tersebut masih tetap dapat dilakukan, dan hasil outputnya pun sama. Dikarenakan peletakkan nilai, baik inisialisasi maupun instansiasi program dilakukan sebelum perulangan dilaksanakan. Dengan alasan yang sama. Dimana nilai awal dibutuhkan untuk mengeksekusi program."
   ]
  },
  {
   "cell_type": "markdown",
   "metadata": {},
   "source": [
    "## Tugas"
   ]
  },
  {
   "cell_type": "markdown",
   "metadata": {},
   "source": [
    "1. Perhatikan flowchart berikut.\n",
    "![Gambar 12](images/tugas-1.jpg)\n",
    "Buat kode program sesuai dengan flowchart tersebut untuk mencari suhu tertinggi yang dicatat dari 5 kota di Jepang selama 7 hari berturut-turut!"
   ]
  },
  {
   "cell_type": "code",
   "execution_count": 4,
   "metadata": {},
   "outputs": [
    {
     "name": "stdout",
     "output_type": "stream",
     "text": [
      "Masukkan suhu [0][0]: 1\n",
      "Masukkan suhu [0][1]: 2\n",
      "Masukkan suhu [0][2]: 3\n",
      "Masukkan suhu [0][3]: 4\n",
      "Masukkan suhu [0][4]: 5\n",
      "Masukkan suhu [0][5]: 6\n",
      "Masukkan suhu [0][6]: 7\n",
      "\n",
      "Masukkan suhu [1][0]: 8\n",
      "Masukkan suhu [1][1]: 9\n",
      "Masukkan suhu [1][2]: 10\n",
      "Masukkan suhu [1][3]: 10\n",
      "Masukkan suhu [1][4]: 21\n",
      "Masukkan suhu [1][5]: 32\n",
      "Masukkan suhu [1][6]: 34\n",
      "\n",
      "Masukkan suhu [2][0]: 35\n",
      "Masukkan suhu [2][1]: 36\n",
      "Masukkan suhu [2][2]: 25\n",
      "Masukkan suhu [2][3]: 34\n",
      "Masukkan suhu [2][4]: 32\n",
      "Masukkan suhu [2][5]: 23\n",
      "Masukkan suhu [2][6]: 33\n",
      "\n",
      "Masukkan suhu [3][0]: 32\n",
      "Masukkan suhu [3][1]: 22\n",
      "Masukkan suhu [3][2]: 25\n",
      "Masukkan suhu [3][3]: 27\n",
      "Masukkan suhu [3][4]: 28\n",
      "Masukkan suhu [3][5]: 29\n",
      "Masukkan suhu [3][6]: 31\n",
      "\n",
      "Masukkan suhu [4][0]: 31\n",
      "Masukkan suhu [4][1]: 32\n",
      "Masukkan suhu [4][2]: 43\n",
      "Masukkan suhu [4][3]: 45\n",
      "Masukkan suhu [4][4]: 56\n",
      "Masukkan suhu [4][5]: 23\n",
      "Masukkan suhu [4][6]: 23\n",
      "\n",
      "Suhu tertinggi dengan suhu sebesar : 56.0\n"
     ]
    }
   ],
   "source": [
    "// Tuliskan jawaban nomor 1\n",
    "import java.util.Scanner;\n",
    "Scanner sc = new Scanner(System.in);\n",
    "int x, y;\n",
    "double max=0;\n",
    "\n",
    "double suhu [][] = new double[5][7];\n",
    "for (int x=0; x<suhu.length; x++){\n",
    "    for(int y=0; y<suhu[0].length; y++){\n",
    "        System.out.printf(\"Masukkan suhu [%d][%d]: \", x,y);\n",
    "        suhu[x][y] = sc.nextDouble(); \n",
    "        if(suhu[x][y] > max){\n",
    "        max=suhu[x][y];\n",
    "    }\n",
    "    } System.out.println(); \n",
    "} \n",
    "System.out.println(\"Suhu tertinggi dengan suhu sebesar : \" +max);"
   ]
  },
  {
   "cell_type": "markdown",
   "metadata": {},
   "source": [
    "### 2. Terdapat hasil pencatatan data lima mahasiswa yang berisi informasi mengenai umur, berat badan (kg), dan tinggi badan (cm). Data tersebut disimpan ke dalam array dua dimensi.\n",
    "![Gambar 13](images/tugas-2.PNG)\n",
    "*Keterangan: penyimpanan nilai dapat dilakukan melalui inisialisasi menggunakan operator assignment*\n",
    " * Tampilkan *berat badan terendah* di antara kelima mahasiswa tersebut\n",
    " * Tampilkan *rata-rata tinggi badan* dari kelima mahasiswa tersebut\n",
    " * Tampilkan nama mahasiswa dengan *umur tertua* di antara kelima mahasiswa tersebut"
   ]
  },
  {
   "cell_type": "code",
   "execution_count": 5,
   "metadata": {},
   "outputs": [
    {
     "name": "stdout",
     "output_type": "stream",
     "text": [
      "======= Olah Data Mahasiswa ========\n",
      "Berat badan paling rendah antara lima mahasiswa ialah 45\n",
      "Total tinggi badan dari kelima mahasiswa ialah 789.0\n",
      "Rata-rata tinggi badan dari kelima mahasiswa ialah 157.8\n",
      "Umur paling tua dari kelima mahasiswa tersebut ialah 20 dengan nama Beky\n",
      "========= selesai ===========\n"
     ]
    }
   ],
   "source": [
    "// Tuliskan jawaban nomor 2\n",
    "int[][] infMahasiswa = {\n",
    "    {19, 51, 155},\n",
    "    {18, 55, 163},\n",
    "    {18, 45, 153},\n",
    "    {20, 46, 158},\n",
    "    {19, 58, 160}\n",
    "};\n",
    "\n",
    "int k,l;\n",
    "int minberat=100;\n",
    "double jumlahTb = 0;\n",
    "double rerataTb = 0;\n",
    "int urutan;\n",
    "int tertua=0;\n",
    "String[] mahasiswa = {\"Desi\", \"Rofan\", \"Lala\", \"Beky\", \"Ega\"};\n",
    "\n",
    "System.out.println(\"======= Olah Data Mahasiswa ========\");\n",
    "\n",
    "for(k=0; k<infMahasiswa.length; k++){\n",
    "    for(l=0; l<infMahasiswa[1].length; l++){\n",
    "        if(infMahasiswa[k][1] < minberat){\n",
    "            minberat = infMahasiswa[k][1];\n",
    "        }\n",
    "    }\n",
    "}\n",
    "System.out.println(\"Berat badan paling rendah antara lima mahasiswa ialah \" + minberat);\n",
    "\n",
    "\n",
    "for(k=0; k<infMahasiswa.length; k++){\n",
    "    for(l=0; l<infMahasiswa[0].length; l++){\n",
    "    if(l == 2)\n",
    "        jumlahTb += infMahasiswa[k][l];\n",
    "    }\n",
    "}\n",
    "rerataTb = jumlahTb / infMahasiswa.length;\n",
    "System.out.println(\"Total tinggi badan dari kelima mahasiswa ialah \" + jumlahTb);\n",
    "System.out.println(\"Rata-rata tinggi badan dari kelima mahasiswa ialah \" + rerataTb);\n",
    "\n",
    "\n",
    "\n",
    "for(k=0; k<infMahasiswa.length; k++){\n",
    "    for(l=0; l<infMahasiswa[0].length; l++){\n",
    "        if(infMahasiswa[k][0] > tertua){\n",
    "            tertua = infMahasiswa[k][0];\n",
    "            urutan = k;\n",
    "        }\n",
    "    }\n",
    "}\n",
    "System.out.println(\"Umur paling tua dari kelima mahasiswa tersebut ialah \" +tertua +\" dengan nama \" + mahasiswa[urutan]);\n",
    "\n",
    "System.out.println(\"========= selesai ===========\");"
   ]
  },
  {
   "cell_type": "code",
   "execution_count": null,
   "metadata": {},
   "outputs": [],
   "source": []
  }
 ],
 "metadata": {
  "kernelspec": {
   "display_name": "Java",
   "language": "java",
   "name": "java"
  },
  "language_info": {
   "codemirror_mode": "java",
   "file_extension": ".jshell",
   "mimetype": "text/x-java-source",
   "name": "Java",
   "pygments_lexer": "java",
   "version": "18-ea+20-1248"
  }
 },
 "nbformat": 4,
 "nbformat_minor": 4
}
