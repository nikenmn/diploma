{
 "cells": [
  {
   "cell_type": "markdown",
   "metadata": {},
   "source": [
    "### Nama : Niken Maharani Permata\n",
    "### NIM    : 2131710006\n",
    "### Kelas / No abs : MI1F / 19"
   ]
  },
  {
   "cell_type": "markdown",
   "metadata": {
    "collapsed": true
   },
   "source": [
    "## JOBSHEET 5\n",
    "\n",
    "## PEMILIHAN 1\n",
    "\n",
    "### Tujuan\n",
    "\n",
    "Mahasiswa mampu menyelesaikan permasalahan/studi kasus menggunakan sintaks pemilihan 1 dan mengimplemantasikannya dalam bahasa pemrogaman java.\n",
    "\n",
    "### Alat dan Bahan\n",
    "+ PC/laptop\n",
    "+ Browser(chrome, firefox, safari)\n",
    "+ Koneksi internet\n",
    "\n",
    "### Praktikum\n",
    "\n",
    "#### Percobaan 1 : Penggunaan if\n",
    "\n",
    "#### Waktu percobaan : 40 menit\n",
    "\n",
    "1. Perhatikan flowchart dibawah ini!\n",
    "\n",
    "    <p align=\"left\">\n",
    "    <img width=\"351\" height=\"460\" src=\"images/01.png\">\n",
    "    </p>\n",
    "    \n",
    "\n",
    "> Flowchart diatas digunakan untuk menentukan bilangan ganjil/genap, selanjutnya kita akan membuat programnya berdasarkan\n",
    "> flowchart di atas!\n",
    "\n",
    "2. Tambahkan library Scanner, deklarasi Scanner, dan buat variabel bil untuk menampung data yang diinput melalui keyboard\n",
    "\n",
    "    ![](images/03.png)"
   ]
  },
  {
   "cell_type": "code",
   "execution_count": 1,
   "metadata": {
    "pycharm": {
     "name": "#%%\n"
    }
   },
   "outputs": [
    {
     "name": "stdout",
     "output_type": "stream",
     "text": [
      "Masukkan sebuah bilangan: 27\n"
     ]
    }
   ],
   "source": [
    "// Ketik kode program di atas di bawah sini\n",
    "import java.util.Scanner;\n",
    "Scanner input = new Scanner(System.in);\n",
    "int bil;\n",
    "System.out.print(\"Masukkan sebuah bilangan: \");\n",
    "bil = input.nextInt();"
   ]
  },
  {
   "cell_type": "markdown",
   "metadata": {},
   "source": [
    "3. Buatlah struktur kondisi untuk mengecek apakah bilangan tersebut merupakan bilangan genap atau ganjil\n",
    "\n",
    "    ![](images/04.png)"
   ]
  },
  {
   "cell_type": "code",
   "execution_count": 5,
   "metadata": {},
   "outputs": [
    {
     "name": "stdout",
     "output_type": "stream",
     "text": [
      "Bilangan Ganjil\n"
     ]
    }
   ],
   "source": [
    "// Ketik kode program di atas di bawah sini\n",
    "if(bil%2 == 0){\n",
    "    System.out.println(\"Bilangan Genap\");\n",
    "}else{\n",
    "    System.out.println(\"Bilangan Ganjil\");\n",
    "}"
   ]
  },
  {
   "cell_type": "markdown",
   "metadata": {},
   "source": [
    "##### Pertanyaan\n",
    "1. Modifikasi program diatas dibagian struktur pemilihannya sehingga menjadi sebagai berikut:\n",
    "\n",
    "    ![](images/05.png)"
   ]
  },
  {
   "cell_type": "code",
   "execution_count": 6,
   "metadata": {},
   "outputs": [
    {
     "name": "stdout",
     "output_type": "stream",
     "text": [
      "Bilangan Ganjil\n"
     ]
    }
   ],
   "source": [
    "// Ketik kode program di atas di bawah sini\n",
    "String output = (bil %2 ==0) ? \"Bilangan Genap\" : \"Bilangan Ganjil\";\n",
    "System.out.println(output);"
   ]
  },
  {
   "cell_type": "markdown",
   "metadata": {},
   "source": [
    "2. Jalankan dan amatilah hasilnya!\n",
    "3. Jelaskan mengapa output program yang dimodifikasi sama dengan output program sebelum dimodifikasi!\n",
    "\n",
    "#### Percobaan 2 : Penggunaan if else\n",
    "\n",
    "#### Waktu percobaan : 40 menit"
   ]
  },
  {
   "cell_type": "markdown",
   "metadata": {},
   "source": [
    "#### Jawaban No 2\n",
    "Output yang dihasilkan ialah tulisan \"Bilangan Ganjil\". \n",
    "\n",
    "#### Jawaban No 3\n",
    "Karena output sebelum modifikasi dan setelah modifikasi pada dasarnya sama-sama menggunakan sintaks pemilihan dengan 2 kondisi. Pada output sebelum modifikasi, menggunakan sintaks pemilihan if else, sedangkan pada output setelah modifikasi menggunakan operator ternary. Perbedaannya hanya pada langkah operator ternary lebih ringkas, namun hasil pengolahan sama."
   ]
  },
  {
   "cell_type": "markdown",
   "metadata": {},
   "source": [
    "+ Buatlah sebuah variabel nilai untuk menyimpan inputan dari keyboard\n",
    "\n",
    "    ![](images/06.png)"
   ]
  },
  {
   "cell_type": "code",
   "execution_count": 4,
   "metadata": {},
   "outputs": [
    {
     "name": "stdout",
     "output_type": "stream",
     "text": [
      "Masukkan sebuah bilangan: 78\n"
     ]
    }
   ],
   "source": [
    "// Ketik kode program di atas di bawah sini\n",
    "int nilai;\n",
    "System.out.print(\"Masukkan sebuah bilangan: \");\n",
    "nilai = input.nextInt();"
   ]
  },
  {
   "cell_type": "markdown",
   "metadata": {},
   "source": [
    "+ Tambahkan sebuah kondisi untuk mengecek input pada variabel nilai\n",
    "\n",
    "    ![](images/07.png)"
   ]
  },
  {
   "cell_type": "code",
   "execution_count": 5,
   "metadata": {},
   "outputs": [
    {
     "name": "stdout",
     "output_type": "stream",
     "text": [
      "Hasil akhir nilai adalah 68\n"
     ]
    }
   ],
   "source": [
    "// Ketik kode program di atas di bawah sini\n",
    "if(nilai >= 100){\n",
    "    nilai +=10;\n",
    "}else{\n",
    "    nilai -= 10;\n",
    "}\n",
    "System.out.println(\"Hasil akhir nilai adalah \" +nilai);"
   ]
  },
  {
   "cell_type": "markdown",
   "metadata": {},
   "source": [
    "+ Jalankan program. Amati apa yang terjadi!"
   ]
  },
  {
   "cell_type": "markdown",
   "metadata": {},
   "source": [
    "##### Pertanyaan\n",
    "1. Jelaskan fungsi kode program berikut:\n",
    "    \n",
    "    ```\n",
    "    nilai+=10;\n",
    "    nilai-=10;\n",
    "    ```\n",
    "\n",
    "2. Modifikasilah program diatas dimana inputannya yang awalnya hanya satu kemudian diganti 2 inputan (misal : nilai1 dan nilai2), lakukan perhitungan rata-rata kedua nilai tersebut jika nilainya lebih dari sama dengan 100 maka dikurangi 5, sedangkan jika nilai rata-rata tersebut kurang dari 100 maka akan langsung dicetak!"
   ]
  },
  {
   "cell_type": "markdown",
   "metadata": {},
   "source": [
    "#### Jawaban No 1\n",
    "Kode program nilai+=10 merupakan contoh pengaplikasian dari operator assignment. Dengan demikian, fungsi dari kode program tersebut ialah untuk memberikan sebuah nilai pada suatu variabel. Dari percobaan diatas, maksud dari kode program yang diinputkan bertujuan untuk memberi tambahan nilai 10 pada variabel, atau mengurangi 10 nilai dari sebuah variabel.\n",
    "\n",
    "#### Jawaban No 2"
   ]
  },
  {
   "cell_type": "code",
   "execution_count": 15,
   "metadata": {},
   "outputs": [
    {
     "name": "stdout",
     "output_type": "stream",
     "text": [
      "Masukkan nilai 1: 356\n",
      "Masukkan nilai 2: 700\n",
      "Rata - Rata: 528\n",
      "Hasil akhir nilai adalah 523\n"
     ]
    }
   ],
   "source": [
    "import java.util.Scanner;\n",
    "Scanner input = new Scanner(System.in);\n",
    "int nilai1, nilai2, rerata, nilaiAkhir;\n",
    "System.out.print(\"Masukkan nilai 1: \");\n",
    "nilai1 = input.nextInt();\n",
    "System.out.print(\"Masukkan nilai 2: \");\n",
    "nilai2 = input.nextInt();\n",
    "rerata= (nilai1 + nilai2) / 2;\n",
    "System.out.println(\"Rata - Rata: \" +rerata);\n",
    "nilaiAkhir = rerata - 5;\n",
    "\n",
    "if(rerata >= 100){\n",
    "System.out.println(\"Hasil akhir nilai adalah \" +nilaiAkhir);  \n",
    "}else\n",
    "System.out.print(\"Hasil akhir nilai adalah \" +rerata);"
   ]
  },
  {
   "cell_type": "markdown",
   "metadata": {},
   "source": [
    "#### Percobaan 3 : Penggunaan if else-if else\n",
    "\n",
    "#### Waktu percobaan : 40 menit\n",
    "\n",
    "+ Tambahakan library `Scanner`\n",
    "+ Buatlah deklarasi `Scanner`\n",
    "+ Buat variabel umur bertipe `int`\n",
    "\n",
    "    ![](images/08.png)"
   ]
  },
  {
   "cell_type": "code",
   "execution_count": 19,
   "metadata": {},
   "outputs": [
    {
     "name": "stdout",
     "output_type": "stream",
     "text": [
      "Masukkan umur Anda: 19\n"
     ]
    }
   ],
   "source": [
    "// Ketik kode program di atas di bawah sini\n",
    "int umur;\n",
    "System.out.print(\"Masukkan umur Anda: \");\n",
    "umur = input.nextInt();"
   ]
  },
  {
   "cell_type": "markdown",
   "metadata": {},
   "source": [
    "+ Kode untuk melakukan pengecekan variabel `umur`\n",
    "\n",
    "    ![](images/09.png)"
   ]
  },
  {
   "cell_type": "code",
   "execution_count": 20,
   "metadata": {},
   "outputs": [
    {
     "name": "stdout",
     "output_type": "stream",
     "text": [
      "Dewasa\n"
     ]
    }
   ],
   "source": [
    "// Ketik kode program di atas di bawah sini\n",
    "if(umur > 60)\n",
    "    System.out.println(\"Lansia\");\n",
    "else if(umur > 45)\n",
    "    System.out.println(\"Tua\");\n",
    "else if(umur > 17)\n",
    "    System.out.println(\"Dewasa\");\n",
    "else if(umur > 5)\n",
    "    System.out.println(\"Anak-anak\");\n",
    "else\n",
    "    System.out.println(\"Balita\");"
   ]
  },
  {
   "cell_type": "markdown",
   "metadata": {},
   "source": [
    "+ Jalankan program dan amati apa yang terjadi!"
   ]
  },
  {
   "cell_type": "markdown",
   "metadata": {},
   "source": [
    "#### Jawaban\n",
    "Yang terjadi ialah output yang dihasilkan berupa tulisan \"Dewasa\". Sebab, variabel yang kita masukkan (19) merupakan variabel angka yang lebih besar dari 17 dan kurang dari 45. Makadari itu, output yang dihasilkan berupa tulisan dalam kategori \"Dewasa\""
   ]
  },
  {
   "cell_type": "markdown",
   "metadata": {},
   "source": [
    "##### Percobaan 4 : Penggunaan switch-case\n",
    "\n",
    "#### Waktu percobaan : 40 menit\n",
    "\n",
    "1. Deklarasikan Scanner\n",
    "1. Buatlah variabel-variabel berikut\n",
    "\n",
    "    ![](images/10.png)"
   ]
  },
  {
   "cell_type": "code",
   "execution_count": 1,
   "metadata": {},
   "outputs": [],
   "source": [
    "// Ketik kode program di atas di bawah sini\n",
    "Scanner sc = new Scanner(System.in);\n",
    "double angka1, angka2, hasil;\n",
    "char operator;"
   ]
  },
  {
   "cell_type": "markdown",
   "metadata": {},
   "source": [
    "3. Kode program untuk meminta inputan dari keyboard\n",
    "\n",
    "    ![](images/11.png)"
   ]
  },
  {
   "cell_type": "code",
   "execution_count": 2,
   "metadata": {},
   "outputs": [
    {
     "name": "stdout",
     "output_type": "stream",
     "text": [
      "Masukkan angka pertama: 27\n",
      "Masukkan angka kedua: 81\n",
      "Masukkan operator (+ - * /): -\n"
     ]
    }
   ],
   "source": [
    "// Ketik kode program di atas di bawah sini\n",
    "System.out.print(\"Masukkan angka pertama: \");\n",
    "angka1 = sc.nextDouble();\n",
    "System.out.print(\"Masukkan angka kedua: \");\n",
    "angka2 = sc.nextDouble();\n",
    "System.out.print(\"Masukkan operator (+ - * /): \");\n",
    "operator = sc.next().charAt(0);"
   ]
  },
  {
   "cell_type": "markdown",
   "metadata": {},
   "source": [
    "4. Kode di bawah ini untuk melakukan pengecekan operator yang digunakan sebelum dilakukan operasi aritmatika\n",
    "\n",
    "    ![](images/12.png)"
   ]
  },
  {
   "cell_type": "code",
   "execution_count": 3,
   "metadata": {},
   "outputs": [
    {
     "name": "stdout",
     "output_type": "stream",
     "text": [
      "27.0 - 81.0 = -54.0\n"
     ]
    }
   ],
   "source": [
    "// Ketik kode program di atas di bawah sini\n",
    "switch(operator){\n",
    "    case '+' :\n",
    "    hasil = angka1 + angka2;\n",
    "    System.out.println(angka1 + \"+\" + angka2 + \"=\" + hasil);\n",
    "    break;\n",
    "    case '-':\n",
    "    hasil = angka1 - angka2;\n",
    "    System.out.println(angka1 + \" - \" + angka2 + \" = \" + hasil);\n",
    "    break;\n",
    "    case '*':\n",
    "    hasil = angka1 - angka2;\n",
    "    System.out.println(angka1 + \" * \" + angka2 + \" = \" + hasil);\n",
    "    break;\n",
    "    case '/':\n",
    "    hasil = angka1 - angka2;\n",
    "    System.out.println(angka1 + \" / \" + angka2 + \" = \" + hasil);\n",
    "    break;\n",
    "    default:\n",
    "    System.out.println(\"Operator yang Anda masukkan salah\");\n",
    "}"
   ]
  },
  {
   "cell_type": "markdown",
   "metadata": {},
   "source": [
    "5. Jalankan program. Amati apa yang terjadi!"
   ]
  },
  {
   "cell_type": "markdown",
   "metadata": {},
   "source": [
    "### Jawaban No 5\n",
    "Yang terjadi ialah muncul hasil output operasi aritmatika 27.0 - 81.0 yang memiliki nilai akhir -54.0"
   ]
  },
  {
   "cell_type": "markdown",
   "metadata": {},
   "source": [
    "##### Pertanyaan\n",
    "1. Jelaskan fungsi dari break dan default pada percobaan 4 diatas!\n",
    "2. Jelaskan fungsi perintah kode program dibawah ini pada percobaan 4!\n",
    "\n",
    "    ```\n",
    "    operator = sc.next().chartAt(0);\n",
    "    ```"
   ]
  },
  {
   "cell_type": "markdown",
   "metadata": {},
   "source": [
    "#### Jawaban No 1\n",
    "Dari percobaan diatas, dapat disimpulkan bahwa fungsi break artinya berhenti. Berfungsi untuk memerintahkan komputer untuk berhenti mengecek case yang lainnya.\n",
    "Sedangkan default memiliki fungsi untuk mengerjakan kode dari nilai variabel yang tidak ada sama sekalipun dengan pilihan case di atasnya.\n",
    "\n",
    "#### Jawaban No 2\n",
    "Fungsi perintah tersebut ialah untuk menginput karakter dari user dengan type data berupa char"
   ]
  },
  {
   "cell_type": "markdown",
   "metadata": {},
   "source": [
    "### Tugas\n",
    "\n",
    "#### Waktu pengerjaan Tugas: 140 menit\n",
    "\n",
    "1. Buatlah program untuk menginputkan dua buah bilangan bulat, kemudian mencetak salah satu bilangan yang nilainya terbesar.\n",
    "2. Perhatikan flowchart berikut ini:\n",
    "\n",
    "![](images/02.png)\n",
    "\n",
    "> Buatlah program sesuai dengan flowchart diatas!\n",
    "\n",
    "3. Pada akhir semester seorang dosen menghitung nilai akhir dari mahasiswa yang terdiri dari nilai uas, uts, kuis, dan tugas. Nilai akhir didapatkan dari 40% nilai uas, 30% nilai uts, 10% nilai kuis, dan 20% nilai tugas. Jika nilai akhir dari mahasiswa dibawah 65 maka mahasiswa tersebut akan mendapatkan remidi. Buatlah program untuk membantu mengetahui mahasiswa yang mendapatkan remidi berdasarkan nilai akhir yang didapatkannya!\n",
    "\n",
    "4. Sebuah toko memberikan diskon kepada pelanggannya dengan ketentuan sebagai berikut:\n",
    "\n",
    "| Total Belanja     | Potongan |\n",
    "|-------------------|----------|\n",
    "| >Rp. 200.000,00   | 2%       |\n",
    "| >Rp. 500.000,00   | 5%       |\n",
    "| >Rp. 1.000.000,00 | 10%      |\n",
    "\n",
    "> Total belanja diperoleh dari pembelian tiga barang yaitu barang A, barang B, dan barang C. Ketika menginputkan harga barang juga menginputkan jumlah barang yang dibeli.\n",
    "\n",
    "Contoh outputnya\n",
    "```\n",
    "Masukkan harga barang A   :100000\n",
    "Masukkan jumlah barang A  :10\n",
    "Masukkan harga barang B   :250000\n",
    "Masukkan jumlah barang B  :5\n",
    "Masukkan harga barang C   :150000\n",
    "Masukkan jumlah barang C  :1\n",
    "---------------------------------------------\n",
    "                Struk total\n",
    "---------------------------------------------\n",
    "Nama Barang \t| \tHarga \t| \tJumlah \t| \tTotal\n",
    "Barang A            100000         10        1000000   \n",
    "Barang B            250000         5         1250000   \n",
    "Barang C            150000         1         150000    \n",
    "Total       :2400000\n",
    "Diskon      :240000.0\n",
    "Total Bayar :2160000.0\n",
    "```"
   ]
  },
  {
   "cell_type": "markdown",
   "metadata": {},
   "source": [
    "### Jawaban No 1"
   ]
  },
  {
   "cell_type": "code",
   "execution_count": 2,
   "metadata": {},
   "outputs": [
    {
     "name": "stdout",
     "output_type": "stream",
     "text": [
      "Masukkan bilangan bulat pertama = 24\n",
      "Masukkan bilangan bulat kedua = 48\n",
      "Bilangan terbesar = 48\n"
     ]
    }
   ],
   "source": [
    "import java.util.Scanner;\n",
    "Scanner input = new Scanner(System.in);\n",
    "int bilBulat1, bilBulat2, bilBulatBesar;\n",
    "\n",
    "System.out.print(\"Masukkan bilangan bulat pertama = \");\n",
    "bilBulat1 = input.nextInt();\n",
    "System.out.print(\"Masukkan bilangan bulat kedua = \");\n",
    "bilBulat2 = input.nextInt();\n",
    "\n",
    "if(bilBulat1>bilBulat2) {\n",
    "    System.out.println(\"Bilangan terbesar = \" +bilBulat1);\n",
    "}else\n",
    "System.out.println(\"Bilangan terbesar = \" +bilBulat2)"
   ]
  },
  {
   "cell_type": "markdown",
   "metadata": {},
   "source": [
    "### Jawaban No 2"
   ]
  },
  {
   "cell_type": "code",
   "execution_count": 14,
   "metadata": {},
   "outputs": [
    {
     "name": "stdout",
     "output_type": "stream",
     "text": [
      "Masukkan umur = 19\n",
      "Boleh berkendara\n"
     ]
    }
   ],
   "source": [
    "import java.util.Scanner;\n",
    "Scanner input = new Scanner(System.in);\n",
    "int umur;\n",
    "\n",
    "System.out.print(\"Masukkan umur = \");\n",
    "umur = input.nextInt();\n",
    "\n",
    "if(umur >= 17){\n",
    "    System.out.println(\"Boleh berkendara\");\n",
    "}else{\n",
    "    System.out.println(\"Tidak boleh berkendara\");\n",
    "}"
   ]
  },
  {
   "cell_type": "markdown",
   "metadata": {},
   "source": [
    "### Jawaban No 3"
   ]
  },
  {
   "cell_type": "code",
   "execution_count": 17,
   "metadata": {},
   "outputs": [
    {
     "name": "stdout",
     "output_type": "stream",
     "text": [
      "Masukkan nilai UAS = 87\n",
      "Masukkan nilai UTS = 89\n",
      "Masukkan nilai Kuis = 85\n",
      "Masukkan nilai Tugas = 92\n",
      "Nilai Akhir Mahasiswa= 87.7\n",
      "Mahasiswa dinyatakan Lulus"
     ]
    }
   ],
   "source": [
    "import java.util.Scanner;\n",
    "Scanner input = new Scanner(System.in);\n",
    "double uas, uts, kuis, tugas, nilaiAkhir, a1, b1, c1, d1;\n",
    "\n",
    "System.out.print(\"Masukkan nilai UAS = \");\n",
    "uas = input.nextDouble();\n",
    "System.out.print(\"Masukkan nilai UTS = \");\n",
    "uts = input.nextDouble();\n",
    "System.out.print(\"Masukkan nilai Kuis = \");\n",
    "kuis = input.nextDouble();\n",
    "System.out.print(\"Masukkan nilai Tugas = \");\n",
    "tugas = input.nextDouble();\n",
    "\n",
    "//permisalan\n",
    "//a1 = nilai akhir UAS\n",
    "//b1 = nilai akhir UTS\n",
    "//c1 = nilai akhir Kuis\n",
    "//d1 = nilai akhir Tugas\n",
    "\n",
    "a1 = 0.40*uas;\n",
    "b1 = 0.30*uts;\n",
    "c1 = 0.20*kuis;\n",
    "d1 = 0.10*tugas;\n",
    "nilaiAkhir = a1+b1+c1+d1;\n",
    "System.out.print(\"Nilai Akhir Mahasiswa= \" +nilaiAkhir);\n",
    "\n",
    "if(nilaiAkhir > 65){\n",
    "    System.out.print(\"\\nMahasiswa dinyatakan Lulus\");\n",
    "}else{\n",
    "    System.out.println(\"Mahasiswa dinyatakan Tidak Lulus\");\n",
    "}"
   ]
  },
  {
   "cell_type": "markdown",
   "metadata": {},
   "source": [
    "### Jawaban No 4"
   ]
  },
  {
   "cell_type": "code",
   "execution_count": 18,
   "metadata": {
    "scrolled": true
   },
   "outputs": [
    {
     "name": "stdout",
     "output_type": "stream",
     "text": [
      "Masukkan harga barang A  = 299000\n",
      "Masukkan jumlah barang A = 2\n",
      "Masukkan harga barang B  = 76000\n",
      "Masukkan jumlah barang B = 4\n",
      "Masukkan harga barang C  = 25900\n",
      "Masukkan jumlah barang C = 3\n",
      "-----------------------------------------------------------------------\n",
      "                              Struk Total                              \n",
      "-----------------------------------------------------------------------\n",
      "    Nama Barang      |     Harga     |     Jumlah     |     Total    \n",
      "Barang A                299000                2             598000 \n",
      "Barang B                76000                4             304000 \n",
      "Barang C                25900                3             77700 \n",
      "Total          = 979700\n",
      "Diskon         = 195940.0\n",
      "Total Bayar    = 783760.0\n"
     ]
    }
   ],
   "source": [
    "import java.util.Scanner;\n",
    "Scanner input = new Scanner(System.in);\n",
    "int a, a1, b, b1, c, c1, tP1, tP2, tP3, totalPembelianAkhir;\n",
    "double diskon, totalBayar;\n",
    "\n",
    "//permisalan\n",
    "//a = harga barang A , a1 = jumlah barang A\n",
    "//b = harga barang B , b1 = jumlah barang B\n",
    "//c = harga barang C , c1 = jumlah barang C\n",
    "//tP1 = total pembelian A\n",
    "//tP2 = total pembelian B\n",
    "//tP3 = total pembelian C\n",
    "\n",
    "System.out.print(\"Masukkan harga barang A  = \");\n",
    "a = input.nextInt();\n",
    "System.out.print(\"Masukkan jumlah barang A = \");\n",
    "a1 = input.nextInt();\n",
    "System.out.print(\"Masukkan harga barang B  = \");\n",
    "b = input.nextInt();\n",
    "System.out.print(\"Masukkan jumlah barang B = \");\n",
    "b1 = input.nextInt();\n",
    "System.out.print(\"Masukkan harga barang C  = \");\n",
    "c = input.nextInt();\n",
    "System.out.print(\"Masukkan jumlah barang C = \");\n",
    "c1 = input.nextInt();\n",
    "\n",
    "tP1 = a1*a;\n",
    "tP2 = b1*b;\n",
    "tP3 = c1*c;\n",
    "totalPembelian = tP1+tP2+tP3;\n",
    "System.out.println(\"-----------------------------------------------------------------------\");\n",
    "System.out.println(\"                              Struk Total                              \");\n",
    "System.out.println(\"-----------------------------------------------------------------------\");\n",
    "System.out.println(\"    Nama Barang      |     Harga     |     Jumlah     |     Total    \");\n",
    "System.out.println(String.format(\"Barang A                %s                %s             %s \", a, a1, tP1));\n",
    "System.out.println(String.format(\"Barang B                %s                %s             %s \", b, b1, tP2));\n",
    "System.out.println(String.format(\"Barang C                %s                %s             %s \", c, c1, tP3));\n",
    "\n",
    "System.out.println(\"Total          = \" +totalPembelian);\n",
    "\n",
    "if (totalPembelian > 200000){\n",
    "diskon = 0.2*totalPembelian;\n",
    "System.out.println(\"Diskon         = \" +diskon);\n",
    "}else if (totalPembelian > 500000){\n",
    "diskon = 0.5*totalPembelian;\n",
    "System.out.println(\"Diskon         = \" +diskon);\n",
    "}else if (totalPembelian > 1000000){\n",
    "diskon = 0.1*totalPembelian;\n",
    "System.out.println(\"Diskon         = \" +diskon);\n",
    "}else \n",
    "System.out.println(\"Anda tidak mendapatkan diskon\");\n",
    "\n",
    "totalBayar = totalPembelian-diskon;\n",
    "System.out.println(\"Total Bayar    = \" +totalBayar);"
   ]
  }
 ],
 "metadata": {
  "kernelspec": {
   "display_name": "Java",
   "language": "java",
   "name": "java"
  },
  "language_info": {
   "codemirror_mode": "java",
   "file_extension": ".jshell",
   "mimetype": "text/x-java-source",
   "name": "Java",
   "pygments_lexer": "java",
   "version": "18-ea+16-926"
  },
  "nteract": {
   "version": "nteract-on-jupyter@2.1.3"
  }
 },
 "nbformat": 4,
 "nbformat_minor": 1
}
