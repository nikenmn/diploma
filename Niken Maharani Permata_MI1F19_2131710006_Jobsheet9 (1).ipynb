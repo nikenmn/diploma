{
 "cells": [
  {
   "cell_type": "markdown",
   "metadata": {},
   "source": [
    "#### Nama : Niken Maharani Permata\n",
    "#### Kelas / No absen : MI1F / 19\n",
    "#### NIM : 2131710006"
   ]
  },
  {
   "cell_type": "markdown",
   "metadata": {
    "collapsed": true
   },
   "source": [
    "# JOBSHEET 09 - Perulangan 2\n",
    "\n",
    "## Tujuan\n",
    "+ Mahasiswa memahami konsep perulangan bersarang (_nested loop_)\n",
    "+ Mahasiswa dapat menjelaskan format penulisan perulangan bersarang (_nested loop_)\n",
    "+ Mahasiswa dapat mengimplementasikan _flowchart_ perulangan bersarang menggunakan bahasa pemrograman Java\n",
    "\n",
    "## Alat dan Bahan\n",
    "+ PC/laptop\n",
    "+ Browser(chrome, firefox, safari)\n",
    "+ Koneksi internet\n",
    "+ Anaconda3 + Java kernel (opsional)\n",
    "\n",
    "## Praktikum\n",
    "### Percobaan 1: Bintang Persegi\n",
    "1. Perhatikan Flowchart di bawah ini\n",
    "![Gambar 0](images/img-00.png)\n",
    "> flowchart di atas digunakan untuk menggambar sebuah persegi dengan simbol * (bintang)\n",
    "2. Pada percobaan ke-1 akan dilakukan percobaan tentang _nested loop_. Kasus yang akan diselesaikan adalah untuk membuat tampilan persegi * , dengan panjang sisi sebanyak N. Misalkan N dimasukan **5**, maka hasilnya adalah\n",
    "![Gambar 1](images/img-01.png)\n",
    "3. Karena program membutuhkan input dari keyboard, maka perlu import class Scanner\n",
    "4. Ketikan kode program di bawah ini\n",
    "![Gambar 2](images/img-02.png)"
   ]
  },
  {
   "cell_type": "code",
   "execution_count": 1,
   "metadata": {},
   "outputs": [
    {
     "name": "stdout",
     "output_type": "stream",
     "text": [
      "Masukkan nilai N : 2\n",
      "***"
     ]
    }
   ],
   "source": [
    "// Tulis Kode program Percobaan 1 Langkah 4 di atas\n",
    "// Tulis Kode program Percobaan 1 Langkah 4 di atas\n",
    "import java.util.Scanner;\n",
    "\n",
    "int n;\n",
    "Scanner sc = new Scanner(System.in);\n",
    "System.out.print(\"Masukkan nilai N : \");\n",
    "n = sc.nextInt();\n",
    "\n",
    "for(int i=0; i<= n; i++){\n",
    "    System.out.print(\"*\");\n",
    "}"
   ]
  },
  {
   "cell_type": "markdown",
   "metadata": {},
   "source": [
    "5.\tPerhatikan sintaks perulangan yang digunakan untuk mencetak * sebanyak N kali ke arah samping. Di tahap 4 di atas kode _looping **for**_ kita jadikan sebagai _**inner loop**_. \n",
    "6.\tKita looping lagi _inner loop_ sebanyak N kali untuk menghasilkan _output_ seperti tahap 2. Maka perlu ditambahkan perulangan luar (_outer loop_).\n",
    "![Gambar 3](images/img-03.png)"
   ]
  },
  {
   "cell_type": "code",
   "execution_count": 2,
   "metadata": {},
   "outputs": [
    {
     "name": "stdout",
     "output_type": "stream",
     "text": [
      "Masukkan nilai N : 5\n",
      "******************************"
     ]
    }
   ],
   "source": [
    "// Tulis Kode program Percobaan 1 Langkah 6 (gabungkan dengan inner loop pada langkah 4)\n",
    "import java.util.Scanner;\n",
    "\n",
    "int n;\n",
    "Scanner sc = new Scanner(System.in);\n",
    "System.out.print(\"Masukkan nilai N : \");\n",
    "n = sc.nextInt();\n",
    "\n",
    "for(int outer=1; outer<=n; outer++){\n",
    "for(int i=0; i<= n; i++){\n",
    "    System.out.print(\"*\");\n",
    "}\n",
    "}"
   ]
  },
  {
   "cell_type": "markdown",
   "metadata": {},
   "source": [
    "#### Pertanyaan \n",
    "1. Apakah dengan menggabungkan _inner loop_ dan _outer loop_ seperti langkah 5 di atas sudah menghasilkan _output_ seperti gambar pada langkah 1?\n",
    "2. Jika belum, silahkan modifikasi kode program sehingga menghasilkan output yang sesuai dengan gambar pada langkah 2?\n",
    "\n",
    "#### Jawaban\n",
    "1. Belum menghasilkan.\n",
    "2. Modifikasi kode program tampak sebagai berikut :"
   ]
  },
  {
   "cell_type": "code",
   "execution_count": 3,
   "metadata": {},
   "outputs": [
    {
     "name": "stdout",
     "output_type": "stream",
     "text": [
      "Masukkan nilai N : 5\n",
      "******\n",
      "******\n",
      "******\n",
      "******\n",
      "******\n"
     ]
    }
   ],
   "source": [
    "// Tulis Kode program Percobaan 1 yang benar menurut kalian\n",
    "\n",
    "// Tulis Kode program Percobaan 1 yang benar menurut kalian\n",
    "import java.util.Scanner;\n",
    "\n",
    "int n;\n",
    "Scanner sc = new Scanner(System.in);\n",
    "System.out.print(\"Masukkan nilai N : \");\n",
    "n = sc.nextInt();\n",
    "\n",
    "for(int outer=1; outer<=n; outer++){\n",
    "for(int i=0; i<= n; i++){\n",
    "    System.out.print(\"*\");\n",
    "}\n",
    "    System.out.println();\n",
    "}\n"
   ]
  },
  {
   "cell_type": "markdown",
   "metadata": {},
   "source": [
    "### Percobaan 2: Bintang Segitiga\n",
    "1.\tPada percobaan ke-2 akan dilakukan percobaan segitiga * sama siku dengan tinggi sebesar N. Misalkan N dimasukan **5**, maka hasilnya seperti gambar berikut\n",
    "![Gambar 4](images/img-04.png)\n",
    "2. Karena program membutuhkan input dari keyboard, maka perlu import class Scanner\n",
    "3. Ketikan kode program di bawah ini\n",
    "![Gambar 5](images/img-05.png)"
   ]
  },
  {
   "cell_type": "code",
   "execution_count": 4,
   "metadata": {},
   "outputs": [
    {
     "name": "stdout",
     "output_type": "stream",
     "text": [
      "Masukkan nilai N = 7\n",
      "****************************"
     ]
    }
   ],
   "source": [
    "// Tulis Kode program Percobaan 2 Langkah 3 di atas\n",
    "import java.util.Scanner;\n",
    "Scanner sc = new Scanner(System.in);\n",
    "System.out.print(\"Masukkan nilai N = \");\n",
    "int n = sc.nextInt();\n",
    "int i = 0;\n",
    "\n",
    "while(i<=n){\n",
    "    int j = 0;\n",
    "    while (j<i){\n",
    "        System.out.print(\"*\");\n",
    "        j++;\n",
    "    }\n",
    "    i++;\n",
    "}"
   ]
  },
  {
   "cell_type": "markdown",
   "metadata": {},
   "source": [
    "Amati kode program yang telah kalian tulis di atas.\n",
    "\n",
    "#### Pertanyaan\n",
    "1. Perhatikan, apakah output yang dihasilkan dengan nilai N = 5 sesuai dengan  tampilan seperti pada tahap 1 (Percobaan 2)?\n",
    "2. Jika tidak sesuai, bagian mana saja yang harus diperbaiki/ditambahkan? Jelaskan setiap bagian yang perlu diperbaiki/ditambahkan. \n",
    "\n",
    "#### Jawaban\n",
    "1. Belum menghasilkan\n",
    "2. Pada kode program sebelumnya, perlu ditambahkan kode yang membatasi program untuk mencetak bintang sesuai nilai deret berada. Sehingga, disini ditambahkan kode System.out.println(). Yang mana digunakan sebagai pembatas untuk memulai cetakan bintang baru pada baris berikutnya. Modifikasi kode program tertera sebagai berikut :"
   ]
  },
  {
   "cell_type": "code",
   "execution_count": 5,
   "metadata": {},
   "outputs": [
    {
     "name": "stdout",
     "output_type": "stream",
     "text": [
      "Masukkan nilai N = 7\n",
      "\n",
      "*\n",
      "**\n",
      "***\n",
      "****\n",
      "*****\n",
      "******\n",
      "*******\n"
     ]
    }
   ],
   "source": [
    "// Tulis Kode program Percobaan 2 yang benar menurut kalian\n",
    "import java.util.Scanner;\n",
    "Scanner sc = new Scanner(System.in);\n",
    "System.out.print(\"Masukkan nilai N = \");\n",
    "int n = sc.nextInt();\n",
    "int i = 0;\n",
    "\n",
    "while(i<=n){\n",
    "    int j = 0;\n",
    "    while (j<i){\n",
    "        System.out.print(\"*\");\n",
    "        j++;\n",
    "    }\n",
    "    System.out.println();\n",
    "    i++;\n",
    "}"
   ]
  },
  {
   "cell_type": "markdown",
   "metadata": {},
   "source": [
    "### Percobaan 3: Segitiga Angka\n",
    "1.\tPada percobaan ke-3 akan dilakukan percobaan segitiga angka sama siku dengan tinggi sebesar N. Misalkan N dimasukan **5**, maka hasilnya seperti berikut\n",
    "![Gambar 7](images/img-07.png)\n",
    "2. Karena program membutuhkan input dari keyboard, maka perlu import class Scanner\n",
    "3. Ketikan kode program di bawah ini\n",
    "![Gambar 8](images/img-08.png)\n"
   ]
  },
  {
   "cell_type": "code",
   "execution_count": 6,
   "metadata": {},
   "outputs": [
    {
     "name": "stdout",
     "output_type": "stream",
     "text": [
      "Masukkan nilai N = 5\n",
      "1\n",
      "12\n",
      "123\n",
      "1234\n",
      "12345\n"
     ]
    }
   ],
   "source": [
    "// Tulis Kode program Percobaan 3 Langkah 3 di atas, disini\n",
    "import java.util.Scanner;\n",
    "Scanner sc = new Scanner(System.in);\n",
    "System.out.print(\"Masukkan nilai N = \");\n",
    "int n = sc.nextInt();\n",
    "\n",
    "for(int i = 1; i<= n; i++){\n",
    "    for(int j=1; j<= i; j++){\n",
    "        System.out.print(j);\n",
    "    }\n",
    "    System.out.println();\n",
    "}"
   ]
  },
  {
   "cell_type": "markdown",
   "metadata": {},
   "source": [
    "#### Pertanyaan \n",
    "1. Apakah kode program di atas menghasilkan _output_ yang diharapkan?\n",
    "2. Jika belum, kode program mana yang harus modifikasi? Jelaskan\n",
    "\n",
    "#### Jawaban\n",
    "1. Belum menghasilkan\n",
    "2. Kode program yang harus dimodifikasi ialah pada program cetak bilangannya. Pada kode program sebelumnya, kita hanya mencetak variabel j yang merupakan nilai dari kolom tiap barisnya. Sedangkan, output yang dikehendaki ialah output berupa perulangan nilai variabel baris, bukan kolom. Disini, agar menghasilkan output seperti yang diiginkan, kita ganti variabel j menjadi variabel i. Dimana variabel i merupakan nilai dari tiap baris yang sesuai, perulangan yang di inputkan pun sesuai dengan jumlah nilai baris. Berikut modifikasi program :"
   ]
  },
  {
   "cell_type": "code",
   "execution_count": 7,
   "metadata": {},
   "outputs": [
    {
     "name": "stdout",
     "output_type": "stream",
     "text": [
      "Masukkan nilai N = 7\n",
      "1 \n",
      "2 2 \n",
      "3 3 3 \n",
      "4 4 4 4 \n",
      "5 5 5 5 5 \n",
      "6 6 6 6 6 6 \n",
      "7 7 7 7 7 7 7 \n"
     ]
    }
   ],
   "source": [
    "// Tulis Kode program Percobaan 3 yang benar menurut kalian\n",
    "import java.util.Scanner;\n",
    "Scanner sc = new Scanner(System.in);\n",
    "System.out.print(\"Masukkan nilai N = \");\n",
    "int n = sc.nextInt();\n",
    "\n",
    "for(int i = 1; i<= n; i++){\n",
    "    for(int j=1; j<= i; j++){\n",
    "        System.out.print(i+ \" \");\n",
    "    }\n",
    "    System.out.println(\"\");\n",
    "}"
   ]
  },
  {
   "cell_type": "markdown",
   "metadata": {},
   "source": [
    "### Percobaan 4: Tebak Angka\n",
    "1. Pada Percobaan 4 ini, kita akan belajar membuat kode untuk menebak angka menggunakan _nested loop_.\n",
    "2. Pada percobaan ini kita menggunakan library Scanner untuk menangkap input dari keyboard dan Random untuk meng-generate angka secara acak\n",
    "3. Ketik dan pahami kode program di bawah ini\n",
    "![Gambar 6](images/img-06.png)"
   ]
  },
  {
   "cell_type": "code",
   "execution_count": 8,
   "metadata": {},
   "outputs": [
    {
     "name": "stdout",
     "output_type": "stream",
     "text": [
      "Tebak Angka (1-10) : 2\n",
      "Tebak Angka (1-10) : 3\n",
      "Tebak Angka (1-10) : 4\n",
      "Tebak Angka (1-10) : 5\n",
      "Yay... tebakan Anda benar... Selamat!!!\n",
      "Apakah Anda ingin mengulang permainan (Y/y)? \n",
      "y\n",
      "Tebak Angka (1-10) : 3\n",
      "Tebak Angka (1-10) : 5\n",
      "Tebak Angka (1-10) : 7\n",
      "Tebak Angka (1-10) : 8\n",
      "Tebak Angka (1-10) : 9\n",
      "Tebak Angka (1-10) : 2\n",
      "Tebak Angka (1-10) : 1\n",
      "Yay... tebakan Anda benar... Selamat!!!\n",
      "Apakah Anda ingin mengulang permainan (Y/y)? \n",
      "t\n"
     ]
    }
   ],
   "source": [
    "// Tulis Kode program Percobaan 4 Langkah 3 di atas, disini\n",
    "import java.util.Scanner;\n",
    "import java.util.Random;\n",
    "\n",
    "Random random = new Random();\n",
    "Scanner input = new Scanner (System.in);\n",
    "char menu = 'y';\n",
    "\n",
    "do{\n",
    "    int number = random.nextInt(10)+1;\n",
    "    boolean success = false;\n",
    "    \n",
    "    do{\n",
    "        System.out.print(\"Tebak Angka (1-10) : \");\n",
    "        int answer = input.nextInt();\n",
    "        input.nextLine();\n",
    "        \n",
    "        if (answer == number){\n",
    "            System.out.println(\"Yay... tebakan Anda benar... Selamat!!!\");\n",
    "            success = true;\n",
    "        }\n",
    "    } while (!success);\n",
    "    \n",
    "    System.out.println(\"Apakah Anda ingin mengulang permainan (Y/y)? \");\n",
    "    menu = input.nextLine().charAt(0);\n",
    "} while (menu == 'y' || menu == 'Y');"
   ]
  },
  {
   "cell_type": "markdown",
   "metadata": {},
   "source": [
    "#### Pertanyaan\n",
    "1. Jelaskan alur program di atas!\n",
    "2. Apa yang harus dilakukan untuk tidak melanjutkan (tidak mengulangi) permainan tersebut? \n",
    "3. Modifikasi program di atas, sehingga bisa menampilkan informasi mengenai : \n",
    "    1. input nilai tebakan yang dimasukan oleh user apakah lebih kecil atau lebih besar dari nilai random!\n",
    "    2. hentikan _nested loop_ jika pengguna gagal menebak angka sampai 10x tebakan, dan beri pesan \"Maaf Anda gagal menebak angka sebanyak 10x\"\n",
    "\n",
    "#### Jawaban\n",
    "1. Pada program diatas, setelah inisialisasi dilakukan, akan di proses dulu statement yang harus dijalankan, baru kemudian dilakukan pembatasan looping dalam penulisan kondisi. Awalnya user akan menginput nilai tebakan angka, melalui input random. Dengan batas angka 1-10. Jika tebakan masuk dalam kondisi benar, maka akan muncul teks \"Yay... tebakan Anda benar... Selamat!!!\". Jika salah, maka program akan melakukan perulangan, mempersilahkan user untuk menginput data hingga menemukan jawaban yang benar.\n",
    "2. Untuk menghentikan program, kita bisa memberi batasan perulangan pada program. dengan batas<=10. Demikian, sintaks perulangan dapat menggunakan for, dimana jumlah perulangannya telah ditentukan sebelumnya.\n",
    "3. Modifikasi program, tertera pada kolom dibawah ini.\n",
    "4. Modifikasi program, tertera pada kolom dibawah ini."
   ]
  },
  {
   "cell_type": "code",
   "execution_count": 5,
   "metadata": {},
   "outputs": [
    {
     "name": "stdout",
     "output_type": "stream",
     "text": [
      "=== Permainan Tebak Angka ===\n",
      "Kesempatan hanya 10 kali\n",
      "Tebak Angka (1-10) : \n",
      "1\n",
      "Tebakan anda lebih kecil dari jawaban\n",
      "Tebak Angka (1-10) : \n",
      "2\n",
      "Tebakan anda lebih kecil dari jawaban\n",
      "Tebak Angka (1-10) : \n",
      "5\n",
      "Tebakan anda lebih kecil dari jawaban\n",
      "Tebak Angka (1-10) : \n",
      "7\n",
      "Tebakan anda lebih kecil dari jawaban\n",
      "Tebak Angka (1-10) : \n",
      "9\n",
      "Tebakan anda lebih kecil dari jawaban\n",
      "Tebak Angka (1-10) : \n",
      "10\n",
      "Yay... tebakan Anda benar... Selamat!!!\n",
      "Apakah Anda ingin mengulang permainan iya = (Y/y), tidak (t)? t\n",
      "Permainan tebak angka selesai."
     ]
    }
   ],
   "source": [
    "/* Jawaban untuk Percobaan 4 Pertnyaan 3.A disini */\n",
    "import java.util.Scanner;\n",
    "import java.util.Random;\n",
    "\n",
    "Random random = new Random();\n",
    "Scanner input = new Scanner (System.in);\n",
    "char menu;\n",
    "\n",
    "do{\n",
    "    int number = random.nextInt(10)+1;\n",
    "    boolean success = false;\n",
    "    \n",
    "    System.out.println(\"=== Permainan Tebak Angka ===\");\n",
    "    System.out.println(\"Kesempatan hanya 10 kali\");\n",
    "    \n",
    "    do {\n",
    "        System.out.println(\"Tebak Angka (1-10) : \");\n",
    "        int answer = input.nextInt();\n",
    "        input.nextLine();\n",
    "        \n",
    "        if (answer == number){\n",
    "            System.out.println(\"Yay... tebakan Anda benar... Selamat!!!\");\n",
    "            success = true; \n",
    "        }else if(answer > number) {\n",
    "        System.out.println(\"Tebakan anda lebih besar dari jawaban\");\n",
    "        } else if(answer < number) {\n",
    "        System.out.println(\"Tebakan anda lebih kecil dari jawaban\");\n",
    "        }  \n",
    "        } while (!success);\n",
    "   System.out.print(\"Apakah Anda ingin mengulang permainan iya = (Y/y), tidak (t)? \");\n",
    "    menu = input.nextLine().charAt(0);\n",
    "}while(menu == 'y' || menu == 'Y');\n",
    "System.out.print(\"Permainan tebak angka selesai.\");"
   ]
  },
  {
   "cell_type": "code",
   "execution_count": 3,
   "metadata": {},
   "outputs": [
    {
     "name": "stdout",
     "output_type": "stream",
     "text": [
      "=== Permainan Tebak Angka ===\n",
      "Kesempatan hanya 10 kali\n",
      "Tebak angka (1-10) : 2\n",
      "Tebakan anda lebih kecil dari jawaban\n",
      "Tebak angka (1-10) : 2\n",
      "Tebakan anda lebih kecil dari jawaban\n",
      "Tebak angka (1-10) : 2\n",
      "Tebakan anda lebih kecil dari jawaban\n",
      "Tebak angka (1-10) : 2\n",
      "Tebakan anda lebih kecil dari jawaban\n",
      "Tebak angka (1-10) : 2\n",
      "Tebakan anda lebih kecil dari jawaban\n",
      "Tebak angka (1-10) : 2\n",
      "Tebakan anda lebih kecil dari jawaban\n",
      "Tebak angka (1-10) : 2\n",
      "Tebakan anda lebih kecil dari jawaban\n",
      "Tebak angka (1-10) : 2\n",
      "Tebakan anda lebih kecil dari jawaban\n",
      "Tebak angka (1-10) : 2\n",
      "Tebakan anda lebih kecil dari jawaban\n",
      "Tebak angka (1-10) : 2\n",
      "Maaf, Anda gagal menebak angka sebanyak 10x\n",
      "Apakah Anda ingin mengulang permainan iya = (Y/y), tidak (t)? t\n",
      "Permainan tebak angka selesai."
     ]
    }
   ],
   "source": [
    "/* Jawaban untuk Percobaan 4 Pertnyaan 3.B disini */\n",
    "import java.util.Scanner;\n",
    "import java.util.Random;\n",
    "\n",
    "Random random = new Random();\n",
    "Scanner input = new Scanner(System.in);\n",
    "char menu = 'y';\n",
    "\n",
    "do{\n",
    "    int number = random.nextInt(10) + 1;\n",
    "    boolean success = false;\n",
    "    \n",
    "    System.out.println(\"=== Permainan Tebak Angka ===\");\n",
    "    System.out.println(\"Kesempatan hanya 10 kali\");\n",
    "    \n",
    "    do{\n",
    "        for(int i = 0;!success;i++){\n",
    "           \n",
    "        System.out.print(\"Tebak angka (1-10) : \");\n",
    "        int answer = input.nextInt();\n",
    "        input.nextLine();\n",
    "         if(i==9){\n",
    "                 System.out.println(\"Maaf, Anda gagal menebak angka sebanyak 10x\");\n",
    "                success = true;\n",
    "            }\n",
    "         else if(answer == number){\n",
    "            System.out.println(\"Yay... tebakan Anda benar... Selamat!!!\");\n",
    "            success = true;\n",
    "        }else if(number < answer){\n",
    "            System.out.println(\"Tebakan anda lebih besar dari jawaban\");\n",
    "        }else if(number > answer){\n",
    "            System.out.println(\"Tebakan anda lebih kecil dari jawaban\");\n",
    "        }\n",
    "        }\n",
    "    }while(!success);\n",
    "    \n",
    "    System.out.print(\"Apakah Anda ingin mengulang permainan iya = (Y/y), tidak (t)? \");\n",
    "    menu = input.nextLine().charAt(0);\n",
    "}while(menu == 'y' || menu == 'Y');\n",
    "System.out.print(\"Permainan tebak angka selesai.\");"
   ]
  },
  {
   "cell_type": "markdown",
   "metadata": {},
   "source": [
    "# Tugas\n",
    "### Soal 1\n",
    "Buatlah program yang **sesuai** dengan alur _flowchart_ di bawah ini\n",
    "![Soal 1](images/Soal-01.png)\n",
    "\n",
    "Apabila kode program sesuai _flowchart_, maka untuk nilai N = 5 akan menghasilkan output seperti gambar berikut\n",
    "![Soal 1 A](images/Soal-01.1.png)"
   ]
  },
  {
   "cell_type": "code",
   "execution_count": 11,
   "metadata": {},
   "outputs": [
    {
     "name": "stdout",
     "output_type": "stream",
     "text": [
      "Program membuat segitiga siku rata kanan\n",
      "Masukkan jumlah baris yang diinginkan (N>=3)\n",
      "N = 5\n",
      "\n",
      "     *\n",
      "    **\n",
      "   ***\n",
      "  ****\n",
      " *****\n"
     ]
    }
   ],
   "source": [
    "/* Jawaban Soal 1 disini */\n",
    "import java.util.Scanner;\n",
    "Scanner sc = new Scanner(System.in);\n",
    "\n",
    "int i, j, k, n ;\n",
    "\n",
    "System.out.println(\"Program membuat segitiga siku rata kanan\");\n",
    "System.out.println(\"Masukkan jumlah baris yang diinginkan (N>=3)\");\n",
    "System.out.print(\"N = \");\n",
    "n = sc.nextInt();\n",
    "System.out.print(\"\\n\");\n",
    "\n",
    "for (i=1;i<=n;i++){\n",
    "    for(j=n;j>=i;j--){\n",
    "    System.out.print(\" \");\n",
    "    }\n",
    "    for(k=1;k<=i;k++){\n",
    "    System.out.print(\"*\");\n",
    "    }\n",
    "    System.out.println();\n",
    "        }"
   ]
  },
  {
   "cell_type": "markdown",
   "metadata": {},
   "source": [
    "### Soal 2\n",
    "Buatlah program untuk mencetak tampilan persegi angka seperti di bawah ini berdasarkan input dari _keyboard_ N (nilai N minimal 3). Contoh N = 3, dan N = 5\n",
    "![Soal 2](images/Soal-02.png)"
   ]
  },
  {
   "cell_type": "code",
   "execution_count": 10,
   "metadata": {},
   "outputs": [
    {
     "name": "stdout",
     "output_type": "stream",
     "text": [
      "Program membuat Persegi kosong\n",
      "Masukkan jumlah baris yang diinginkan (N>=3)\n",
      "N = 5\n",
      "\n",
      "5 5 5 5 5 \n",
      "5       5 \n",
      "5       5 \n",
      "5       5 \n",
      "5 5 5 5 5 "
     ]
    }
   ],
   "source": [
    "/* Jawaban Soal 2 disini */\n",
    "import java.util.Scanner;\n",
    "Scanner sc = new Scanner(System.in);\n",
    "\n",
    "int a,b,n;\n",
    "\n",
    "System.out.println(\"Program membuat Persegi kosong\");\n",
    "System.out.println(\"Masukkan jumlah baris yang diinginkan (N>=3)\");\n",
    "System.out.print(\"N = \");\n",
    "n = sc.nextInt();\n",
    "System.out.print(\"\\n\");\n",
    "\n",
    "\n",
    "\n",
    "   for (a = 1; a <= n; a++) {\n",
    "        System.out.print(n+\" \");\n",
    "    }\n",
    "    System.out.print(\"\\n\");\n",
    "\n",
    "    for (a = 1; a <= (n-2); a++) {\n",
    "        System.out.print(n);\n",
    "        for (b = 1; b <= (n+2); b++) {\n",
    "            System.out.print(\" \");\n",
    "        }\n",
    "        System.out.print(n+\" \"+\"\\n\");\n",
    "    }\n",
    "   for (a = 1; a <= n; a++) {\n",
    "        System.out.print(n+\" \");\n",
    "    }"
   ]
  },
  {
   "cell_type": "markdown",
   "metadata": {},
   "source": [
    "### Soal 3\n",
    "Buatlah program untuk mencetak tampilan piramida * seperti gambar di bawah ini, tinggi piramida berdasarkan input dari _keyboard_ N (nilai N minimal 3). Contoh N = 3, dan N = 5\n",
    "![Soal 3](images/Soal-03.png)"
   ]
  },
  {
   "cell_type": "code",
   "execution_count": 11,
   "metadata": {},
   "outputs": [
    {
     "name": "stdout",
     "output_type": "stream",
     "text": [
      "Masukkan jumlah baris yang diinginkan (N>=3)\n",
      "N = 5\n",
      "\n",
      "    *    \n",
      "   ***   \n",
      "  *****  \n",
      " ******* \n",
      "*********\n"
     ]
    }
   ],
   "source": [
    "/* Jawaban Soal 3 disini */\n",
    "import java.util.Scanner;\n",
    "Scanner sc = new Scanner(System.in);\n",
    "\n",
    "int n;\n",
    "\n",
    "System.out.println(\"Masukkan jumlah baris yang diinginkan (N>=3)\");\n",
    "System.out.print(\"N = \");\n",
    "n = sc.nextInt();\n",
    "System.out.print(\"\\n\");\n",
    "\n",
    "     for(int i = 1; i <= n; i++){\n",
    "          for(int j = 1; j <= (n*2)-1; j++){\n",
    "            if(Math.abs(n-j)<i){\n",
    "              System.out.print( '*' );\n",
    "            }else{\n",
    "              System.out.print( ' ' );\n",
    "            }\n",
    "          }\n",
    "          System.out.println();\n",
    "     }   "
   ]
  },
  {
   "cell_type": "code",
   "execution_count": null,
   "metadata": {},
   "outputs": [],
   "source": []
  }
 ],
 "metadata": {
  "kernelspec": {
   "display_name": "Java",
   "language": "java",
   "name": "java"
  },
  "language_info": {
   "codemirror_mode": "java",
   "file_extension": ".jshell",
   "mimetype": "text/x-java-source",
   "name": "Java",
   "pygments_lexer": "java",
   "version": "18-ea+20-1248"
  }
 },
 "nbformat": 4,
 "nbformat_minor": 1
}
